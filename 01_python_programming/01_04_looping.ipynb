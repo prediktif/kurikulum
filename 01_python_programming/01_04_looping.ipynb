{
 "cells": [
  {
   "cell_type": "markdown",
   "id": "260c6c13-3515-4461-85af-79b9215d519f",
   "metadata": {},
   "source": [
    "# Looping"
   ]
  },
  {
   "cell_type": "markdown",
   "id": "14b84d21-e6ca-40f3-a109-821dc9cabc82",
   "metadata": {},
   "source": [
    "## Goal\n",
    "- Memperkenalkan bagaimana python melakukan perulangan dalam pemorgraman."
   ]
  },
  {
   "cell_type": "markdown",
   "id": "3b45e9e0-79c7-4b6a-b5c1-3d6370a4c7d6",
   "metadata": {},
   "source": [
    "## Referensi\n",
    "- https://www.learnpython.org/en/Loops"
   ]
  },
  {
   "cell_type": "markdown",
   "id": "6e716e59-356e-45a0-865a-1226a21abf47",
   "metadata": {},
   "source": [
    "### 1. For Loop"
   ]
  },
  {
   "cell_type": "code",
   "execution_count": 2,
   "id": "ec3dba41-a668-4641-bb52-9459c636d3d5",
   "metadata": {},
   "outputs": [
    {
     "name": "stdout",
     "output_type": "stream",
     "text": [
      "Adi\n",
      "Budi\n",
      "Chandra\n",
      "Deri\n"
     ]
    }
   ],
   "source": [
    "nama_murid = ['Adi', 'Budi', 'Chandra', 'Deri']\n",
    "for murid in nama_murid:\n",
    "    print(murid)"
   ]
  },
  {
   "cell_type": "code",
   "execution_count": 3,
   "id": "3abcf194-a72b-46b8-bb14-4498c99e9402",
   "metadata": {},
   "outputs": [
    {
     "name": "stdout",
     "output_type": "stream",
     "text": [
      "0 Adi\n",
      "1 Budi\n",
      "2 Chandra\n",
      "3 Deri\n"
     ]
    }
   ],
   "source": [
    "nama_murid = ['Adi', 'Budi', 'Chandra', 'Deri']\n",
    "for urutan, murid in enumerate(nama_murid):\n",
    "    print(urutan, murid)"
   ]
  },
  {
   "cell_type": "code",
   "execution_count": 4,
   "id": "ace753c7-c14d-4672-90b5-e7a89054e9ef",
   "metadata": {},
   "outputs": [
    {
     "name": "stdout",
     "output_type": "stream",
     "text": [
      "1 Adi\n",
      "2 Budi\n",
      "3 Chandra\n",
      "4 Deri\n"
     ]
    }
   ],
   "source": [
    "nama_murid = ['Adi', 'Budi', 'Chandra', 'Deri']\n",
    "for enum, murid in enumerate(nama_murid):\n",
    "    urutan = enum + 1\n",
    "    print(urutan, murid)"
   ]
  },
  {
   "cell_type": "code",
   "execution_count": 5,
   "id": "33415f0f-ebbd-4928-badf-376120bce98e",
   "metadata": {},
   "outputs": [
    {
     "name": "stdout",
     "output_type": "stream",
     "text": [
      "Nama murid dengan nomor urut 1 adalah Adi.\n",
      "Nama murid dengan nomor urut 2 adalah Budi.\n",
      "Nama murid dengan nomor urut 3 adalah Chandra.\n",
      "Nama murid dengan nomor urut 4 adalah Deri.\n"
     ]
    }
   ],
   "source": [
    "nama_murid = ['Adi', 'Budi', 'Chandra', 'Deri']\n",
    "for enum, murid in enumerate(nama_murid):\n",
    "    urutan = enum + 1\n",
    "    print('Nama murid dengan nomor urut {} adalah {}.'.format(urutan, murid))"
   ]
  },
  {
   "cell_type": "code",
   "execution_count": 7,
   "id": "b5ca109e-8aa4-49ef-a43f-8c28adea0270",
   "metadata": {},
   "outputs": [
    {
     "name": "stdout",
     "output_type": "stream",
     "text": [
      "Ibukota dari provinsi Jawa Tengah adalah Semarang.\n",
      "Ibukota dari provinsi Jawa Barat adalah Bandung.\n",
      "Ibukota dari provinsi Jawa Timur adalah Surabaya.\n",
      "Ibukota dari provinsi Kalimantan Timur adalah Samarinda.\n",
      "Ibukota dari provinsi Kalimantan Selatan adalah Banjarmasin.\n"
     ]
    }
   ],
   "source": [
    "nama_daerah = {\n",
    "    'Jawa Tengah' : 'Semarang',\n",
    "    'Jawa Barat' : 'Bandung',\n",
    "    'Jawa Timur' : 'Surabaya',\n",
    "    'Kalimantan Timur': 'Samarinda',\n",
    "    'Kalimantan Selatan' : 'Banjarmasin'\n",
    "}\n",
    "\n",
    "for provinsi, ibukota in nama_daerah.items():\n",
    "    print('Ibukota dari provinsi {} adalah {}.'.format(provinsi, ibukota))"
   ]
  },
  {
   "cell_type": "markdown",
   "id": "c4f67854-5087-46ca-af62-72518ecd62aa",
   "metadata": {},
   "source": [
    "### 2. While Loop"
   ]
  },
  {
   "cell_type": "code",
   "execution_count": 9,
   "id": "d05a93fb-ddf3-4df0-af98-d5a8073f7619",
   "metadata": {},
   "outputs": [
    {
     "name": "stdout",
     "output_type": "stream",
     "text": [
      "current number 0\n",
      "current number 1\n",
      "current number 2\n",
      "current number 3\n",
      "current number 4\n",
      "current number 5\n",
      "current number 6\n"
     ]
    }
   ],
   "source": [
    "num = 0\n",
    "border = 7\n",
    "while num != border:\n",
    "    print('current number {}'.format(num))\n",
    "    num += 1"
   ]
  },
  {
   "cell_type": "code",
   "execution_count": 10,
   "id": "95e187a3-4d9f-47dc-bbd8-0628a103bfb6",
   "metadata": {},
   "outputs": [
    {
     "name": "stdout",
     "output_type": "stream",
     "text": [
      "current number 0\n",
      "current number 1\n",
      "current number 2\n",
      "current number 3\n",
      "current number 4\n",
      "current number 5\n",
      "current number 6\n",
      "current number 7\n"
     ]
    }
   ],
   "source": [
    "num = 0\n",
    "border = 7\n",
    "while num <= border:\n",
    "    print('current number {}'.format(num))\n",
    "    num += 1"
   ]
  },
  {
   "cell_type": "code",
   "execution_count": 29,
   "id": "334f2fba-0057-40f0-aac4-3444587ff39d",
   "metadata": {},
   "outputs": [
    {
     "name": "stdout",
     "output_type": "stream",
     "text": [
      "0.7758538773860384\n",
      "0.2969345858982194\n",
      "0.3823935857294892\n",
      "0.9546811878872536\n",
      "0.6836094016264076\n",
      "0.2828922696022891\n",
      "0.3108180915732298\n",
      "0.8771567872085105\n",
      "0.33334551212087127\n",
      "0.03442219220592668\n",
      "0.02091919243443907\n",
      "0.36432653080068234\n",
      "0.6321434473732954\n",
      "0.9222502250949758\n",
      "0.8327659251808024\n",
      "0.8315031042765686\n",
      "0.8754214936009982\n",
      "0.04128879933402285\n",
      "0.7246080685874889\n"
     ]
    }
   ],
   "source": [
    "import random\n",
    "\n",
    "flag = True\n",
    "threshold = 0.5\n",
    "random_number_list = []\n",
    "while flag:\n",
    "    random_number = random.random()\n",
    "    print(random_number)\n",
    "    if random_number >= threshold:\n",
    "        random_number_list.append(random_number)\n",
    "    if len(random_number_list) == 10:\n",
    "        flag = False"
   ]
  },
  {
   "cell_type": "code",
   "execution_count": null,
   "id": "726420e6-c3b2-41a1-b4ee-8c7f6337918b",
   "metadata": {},
   "outputs": [],
   "source": []
  }
 ],
 "metadata": {
  "kernelspec": {
   "display_name": "Python 3 (ipykernel)",
   "language": "python",
   "name": "python3"
  },
  "language_info": {
   "codemirror_mode": {
    "name": "ipython",
    "version": 3
   },
   "file_extension": ".py",
   "mimetype": "text/x-python",
   "name": "python",
   "nbconvert_exporter": "python",
   "pygments_lexer": "ipython3",
   "version": "3.9.6"
  }
 },
 "nbformat": 4,
 "nbformat_minor": 5
}
