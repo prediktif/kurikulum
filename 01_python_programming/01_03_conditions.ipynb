{
 "cells": [
  {
   "cell_type": "markdown",
   "id": "ca60420f-00dd-4e92-8031-b28e078b8d7f",
   "metadata": {},
   "source": [
    "# Conditions"
   ]
  },
  {
   "cell_type": "markdown",
   "id": "e0200f69-03c1-40db-83f3-6443cb9b1cb2",
   "metadata": {},
   "source": [
    "## Goal\n",
    "- Memperkenalkan bagaimana python menangani conditional statement berdasarkan value boolean."
   ]
  },
  {
   "cell_type": "markdown",
   "id": "465764ec-29d9-415b-b3e1-6007e2071fec",
   "metadata": {},
   "source": [
    "## Referensi\n",
    "- https://realpython.com/python-conditional-statements/"
   ]
  },
  {
   "cell_type": "markdown",
   "id": "7860b439-0c3f-405e-a411-e03ea1d9f662",
   "metadata": {},
   "source": [
    "### 1. If Statement"
   ]
  },
  {
   "cell_type": "code",
   "execution_count": 3,
   "id": "5fd407d2-8f94-4bb5-b568-9f3dbaaa320f",
   "metadata": {},
   "outputs": [
    {
     "name": "stdout",
     "output_type": "stream",
     "text": [
      "nilai boolean True\n"
     ]
    }
   ],
   "source": [
    "if True:\n",
    "    print('nilai boolean True')"
   ]
  },
  {
   "cell_type": "code",
   "execution_count": 4,
   "id": "ce89e6a0-dd9a-4eda-bcb6-2c0ceec200fa",
   "metadata": {},
   "outputs": [],
   "source": [
    "if False:\n",
    "    print('nilai boolean False')"
   ]
  },
  {
   "cell_type": "code",
   "execution_count": 5,
   "id": "de212e35-41a2-4ebd-81ea-a586e0c59109",
   "metadata": {},
   "outputs": [
    {
     "name": "stdout",
     "output_type": "stream",
     "text": [
      "a dan b sama\n"
     ]
    }
   ],
   "source": [
    "a = 5\n",
    "b = 5\n",
    "if a == b:\n",
    "    print('a dan b sama')"
   ]
  },
  {
   "cell_type": "code",
   "execution_count": 6,
   "id": "2f4742da-5b5e-4f0b-a27d-2cd38311fdc1",
   "metadata": {},
   "outputs": [],
   "source": [
    "a = 5\n",
    "b = 6\n",
    "if a == b:\n",
    "    print('a dan b sama')"
   ]
  },
  {
   "cell_type": "code",
   "execution_count": 7,
   "id": "fd0f5479-f4d9-41c7-af22-a44333bf1018",
   "metadata": {},
   "outputs": [
    {
     "name": "stdout",
     "output_type": "stream",
     "text": [
      "a lebih kecil dari b\n"
     ]
    }
   ],
   "source": [
    "a = 5\n",
    "b = 6\n",
    "if a < b:\n",
    "    print('a lebih kecil dari b')"
   ]
  },
  {
   "cell_type": "code",
   "execution_count": 8,
   "id": "2b17394b-0b37-400f-9e70-b98d7f269536",
   "metadata": {},
   "outputs": [],
   "source": [
    "a = 'jakarta'\n",
    "b = 'Jakarta'\n",
    "if a == b:\n",
    "    print('a dan b sama')"
   ]
  },
  {
   "cell_type": "code",
   "execution_count": 9,
   "id": "b0911fc0-370d-4003-b4d9-0a64c2fd2ea1",
   "metadata": {},
   "outputs": [
    {
     "name": "stdout",
     "output_type": "stream",
     "text": [
      "a dan b sama\n"
     ]
    }
   ],
   "source": [
    "a = 'malang'\n",
    "b = 'malang'\n",
    "if a == b:\n",
    "    print('a dan b sama')"
   ]
  },
  {
   "cell_type": "code",
   "execution_count": 11,
   "id": "723e8dfc-7175-4684-858c-2c65fd040d5e",
   "metadata": {},
   "outputs": [],
   "source": [
    "a = '1'\n",
    "b = 1\n",
    "if a == b:\n",
    "    print('a dan b sama')"
   ]
  },
  {
   "cell_type": "code",
   "execution_count": 12,
   "id": "6076f7ad-6e77-4f1e-88ca-eb1f99892c14",
   "metadata": {},
   "outputs": [
    {
     "ename": "TypeError",
     "evalue": "'>' not supported between instances of 'str' and 'int'",
     "output_type": "error",
     "traceback": [
      "\u001b[0;31m---------------------------------------------------------------------------\u001b[0m",
      "\u001b[0;31mTypeError\u001b[0m                                 Traceback (most recent call last)",
      "Cell \u001b[0;32mIn[12], line 3\u001b[0m\n\u001b[1;32m      1\u001b[0m a \u001b[38;5;241m=\u001b[39m \u001b[38;5;124m'\u001b[39m\u001b[38;5;124m1\u001b[39m\u001b[38;5;124m'\u001b[39m\n\u001b[1;32m      2\u001b[0m b \u001b[38;5;241m=\u001b[39m \u001b[38;5;241m1\u001b[39m\n\u001b[0;32m----> 3\u001b[0m \u001b[38;5;28;01mif\u001b[39;00m \u001b[43ma\u001b[49m\u001b[43m \u001b[49m\u001b[38;5;241;43m>\u001b[39;49m\u001b[43m \u001b[49m\u001b[43mb\u001b[49m:\n\u001b[1;32m      4\u001b[0m     \u001b[38;5;28mprint\u001b[39m(\u001b[38;5;124m'\u001b[39m\u001b[38;5;124ma dan b sama\u001b[39m\u001b[38;5;124m'\u001b[39m)\n",
      "\u001b[0;31mTypeError\u001b[0m: '>' not supported between instances of 'str' and 'int'"
     ]
    }
   ],
   "source": [
    "a = '1'\n",
    "b = 1\n",
    "if a > b:\n",
    "    print('a dan b sama')"
   ]
  },
  {
   "cell_type": "markdown",
   "id": "22ad2156-30d8-47c7-a33d-db235aa41c6a",
   "metadata": {},
   "source": [
    "### 2. If Else Statement"
   ]
  },
  {
   "cell_type": "code",
   "execution_count": 13,
   "id": "92e9ab94-5222-4796-82ea-9d4052f978a7",
   "metadata": {},
   "outputs": [
    {
     "name": "stdout",
     "output_type": "stream",
     "text": [
      "a dan b tidak sama\n"
     ]
    }
   ],
   "source": [
    "a = 5\n",
    "b = 6\n",
    "if a == b:\n",
    "    print('a dan b sama')\n",
    "else:\n",
    "    print('a dan b tidak sama')"
   ]
  },
  {
   "cell_type": "code",
   "execution_count": 14,
   "id": "2e13ec98-8aef-4627-8d7f-bce637ea8ea7",
   "metadata": {},
   "outputs": [
    {
     "name": "stdout",
     "output_type": "stream",
     "text": [
      "a dan b sama\n"
     ]
    }
   ],
   "source": [
    "a = 5\n",
    "b = 5\n",
    "if a == b:\n",
    "    print('a dan b sama')\n",
    "else:\n",
    "    print('a dan b tidak sama')"
   ]
  },
  {
   "cell_type": "markdown",
   "id": "97741e7d-cf01-4586-86d3-452f312d76d0",
   "metadata": {},
   "source": [
    "### 3. If Elif Else Statement"
   ]
  },
  {
   "cell_type": "code",
   "execution_count": 15,
   "id": "4b022cf3-efb0-4262-908d-f5f5bff39e35",
   "metadata": {},
   "outputs": [
    {
     "name": "stdout",
     "output_type": "stream",
     "text": [
      "a sama dengan b\n"
     ]
    }
   ],
   "source": [
    "a = 5\n",
    "b = 5\n",
    "if a > b:\n",
    "    print('a lebih besar dari b')\n",
    "elif a == b:\n",
    "    print('a sama dengan b')\n",
    "else:\n",
    "    print('a lebih kecil dari b')"
   ]
  },
  {
   "cell_type": "code",
   "execution_count": 17,
   "id": "76d79c60-bdfb-4671-a423-0b20cec6731e",
   "metadata": {},
   "outputs": [
    {
     "name": "stdout",
     "output_type": "stream",
     "text": [
      "Grade B\n"
     ]
    }
   ],
   "source": [
    "nilai_ujian = 75\n",
    "\n",
    "if nilai_ujian < 55:\n",
    "    print('Grade E')\n",
    "elif nilai_ujian < 65:\n",
    "    print('Grade D')\n",
    "elif nilai_ujian < 75:\n",
    "    print('Grade C')\n",
    "elif nilai_ujian < 85:\n",
    "    print('Grade B')\n",
    "else:\n",
    "    print('Grade A')"
   ]
  },
  {
   "cell_type": "code",
   "execution_count": null,
   "id": "c0e10ab6-4586-4063-965d-58dced2b09d1",
   "metadata": {},
   "outputs": [],
   "source": []
  }
 ],
 "metadata": {
  "kernelspec": {
   "display_name": "Python 3 (ipykernel)",
   "language": "python",
   "name": "python3"
  },
  "language_info": {
   "codemirror_mode": {
    "name": "ipython",
    "version": 3
   },
   "file_extension": ".py",
   "mimetype": "text/x-python",
   "name": "python",
   "nbconvert_exporter": "python",
   "pygments_lexer": "ipython3",
   "version": "3.9.6"
  }
 },
 "nbformat": 4,
 "nbformat_minor": 5
}
