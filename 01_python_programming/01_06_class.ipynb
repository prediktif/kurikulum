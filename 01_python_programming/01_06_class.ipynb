{
 "cells": [
  {
   "cell_type": "markdown",
   "id": "e825e01c-92ac-4a40-995e-7da4afcafc57",
   "metadata": {},
   "source": [
    "# Class"
   ]
  },
  {
   "cell_type": "markdown",
   "id": "085e2aff-61eb-4fa2-9fb4-e887bf74b862",
   "metadata": {},
   "source": [
    "## Goal\n",
    "- Memperkenalkan bagaimana python membuat object dari template (class)"
   ]
  },
  {
   "cell_type": "markdown",
   "id": "a13961e3-8366-4f18-87a8-4daee9134c20",
   "metadata": {},
   "source": [
    "## Referensi\n",
    "- https://www.hackerearth.com/practice/python/object-oriented-programming/classes-and-objects-i/tutorial/#:~:text=What%20is%20a%20class%3F,the%20constructor%20of%20the%20class."
   ]
  },
  {
   "cell_type": "markdown",
   "id": "761c6387-bce1-48a1-a378-39ece1159b02",
   "metadata": {},
   "source": [
    "### 1. Class - Basic"
   ]
  },
  {
   "cell_type": "code",
   "execution_count": 49,
   "id": "d90cd53b-1324-44a1-b50d-ca1b7d2ba558",
   "metadata": {},
   "outputs": [],
   "source": [
    "class Snake:\n",
    "    pass"
   ]
  },
  {
   "cell_type": "code",
   "execution_count": 50,
   "id": "67b613b8-df2c-4501-a91c-b433f17eb1f4",
   "metadata": {},
   "outputs": [],
   "source": [
    "ular = Snake()"
   ]
  },
  {
   "cell_type": "code",
   "execution_count": 51,
   "id": "eb1f641b-e6b3-4d8b-a03f-878050b41305",
   "metadata": {},
   "outputs": [
    {
     "data": {
      "text/plain": [
       "<__main__.Snake at 0x1074312b0>"
      ]
     },
     "execution_count": 51,
     "metadata": {},
     "output_type": "execute_result"
    }
   ],
   "source": [
    "ular"
   ]
  },
  {
   "cell_type": "code",
   "execution_count": 52,
   "id": "b2833174-3ad5-42ff-a28b-d595a45c290a",
   "metadata": {},
   "outputs": [],
   "source": [
    "class Snake:\n",
    "    animal_type = \"reptil\""
   ]
  },
  {
   "cell_type": "code",
   "execution_count": 53,
   "id": "d5dadecb-de0f-476f-828b-e3c20527e213",
   "metadata": {},
   "outputs": [],
   "source": [
    "ular = Snake()"
   ]
  },
  {
   "cell_type": "code",
   "execution_count": 54,
   "id": "d9c76928-0a7e-4cd6-b6a9-3c40ca11297c",
   "metadata": {},
   "outputs": [
    {
     "data": {
      "text/plain": [
       "'reptil'"
      ]
     },
     "execution_count": 54,
     "metadata": {},
     "output_type": "execute_result"
    }
   ],
   "source": [
    "ular.animal_type"
   ]
  },
  {
   "cell_type": "code",
   "execution_count": 75,
   "id": "ed6b1712-8375-4e5d-9558-b00cc0ba99a1",
   "metadata": {},
   "outputs": [],
   "source": [
    "class Snake:\n",
    "    animal_type = \"reptil\"\n",
    "    length_in_cm = None\n",
    "\n",
    "    def change_length(self, new_length):\n",
    "        self.length_in_cm = new_length"
   ]
  },
  {
   "cell_type": "code",
   "execution_count": 76,
   "id": "82ec2d4f-9519-48d1-a9f9-4dd8815f0fae",
   "metadata": {},
   "outputs": [],
   "source": [
    "ular = Snake()"
   ]
  },
  {
   "cell_type": "code",
   "execution_count": 77,
   "id": "efb3cf44-09a9-46c5-bc56-ccb01c1bdcd7",
   "metadata": {},
   "outputs": [],
   "source": [
    "ular.length_in_cm"
   ]
  },
  {
   "cell_type": "code",
   "execution_count": 78,
   "id": "fab52546-153f-41b8-a296-499b69f6b589",
   "metadata": {},
   "outputs": [],
   "source": [
    "ular.change_length(200)"
   ]
  },
  {
   "cell_type": "code",
   "execution_count": 79,
   "id": "6e6257c3-3604-4c54-befa-4ba4abb6177e",
   "metadata": {},
   "outputs": [
    {
     "data": {
      "text/plain": [
       "200"
      ]
     },
     "execution_count": 79,
     "metadata": {},
     "output_type": "execute_result"
    }
   ],
   "source": [
    "ular.length_in_cm"
   ]
  },
  {
   "cell_type": "code",
   "execution_count": 80,
   "id": "bd3605ea-75df-4c27-bdbb-c925afd517fb",
   "metadata": {},
   "outputs": [],
   "source": [
    "class Snake:\n",
    "    animal_type = \"reptil\"\n",
    "    length_in_cm = None\n",
    "\n",
    "    def change_length(self, new_length):\n",
    "        self.length_in_cm = new_length\n",
    "\n",
    "    def __init__(self, snake_type):\n",
    "        self.snake_type = snake_type"
   ]
  },
  {
   "cell_type": "code",
   "execution_count": 81,
   "id": "554620cd-a8a9-4384-af68-b9061a9082cc",
   "metadata": {},
   "outputs": [
    {
     "ename": "TypeError",
     "evalue": "__init__() missing 1 required positional argument: 'snake_type'",
     "output_type": "error",
     "traceback": [
      "\u001b[0;31m---------------------------------------------------------------------------\u001b[0m",
      "\u001b[0;31mTypeError\u001b[0m                                 Traceback (most recent call last)",
      "Cell \u001b[0;32mIn[81], line 1\u001b[0m\n\u001b[0;32m----> 1\u001b[0m ular \u001b[38;5;241m=\u001b[39m \u001b[43mSnake\u001b[49m\u001b[43m(\u001b[49m\u001b[43m)\u001b[49m\n",
      "\u001b[0;31mTypeError\u001b[0m: __init__() missing 1 required positional argument: 'snake_type'"
     ]
    }
   ],
   "source": [
    "ular = Snake()"
   ]
  },
  {
   "cell_type": "code",
   "execution_count": 82,
   "id": "d967450d-9d4e-4f08-98c2-e001e5cb2823",
   "metadata": {},
   "outputs": [],
   "source": [
    "ular = Snake('python')"
   ]
  },
  {
   "cell_type": "code",
   "execution_count": 83,
   "id": "d746d04b-0c0e-4b6a-b96a-b3175168111a",
   "metadata": {},
   "outputs": [
    {
     "data": {
      "text/plain": [
       "'python'"
      ]
     },
     "execution_count": 83,
     "metadata": {},
     "output_type": "execute_result"
    }
   ],
   "source": [
    "ular.snake_type"
   ]
  },
  {
   "cell_type": "code",
   "execution_count": 84,
   "id": "651e6b41-2569-478c-9449-9a30ef90adfb",
   "metadata": {},
   "outputs": [],
   "source": [
    "class Snake:\n",
    "    animal_type = \"reptil\"\n",
    "    length_in_cm = None\n",
    "\n",
    "    def change_length(self, new_length):\n",
    "        self.length_in_cm = new_length\n",
    "\n",
    "    def __init__(self, snake_type):\n",
    "        self.snake_type = snake_type\n",
    "\n",
    "    def __str__(self):\n",
    "        return \"Ular {} adalah {} yang memiliki panjang {} cm.\".format(self.snake_type, self.animal_type, self.length_in_cm)"
   ]
  },
  {
   "cell_type": "code",
   "execution_count": 85,
   "id": "cc365cf1-7cdd-4a36-a8d0-ace302c8ea65",
   "metadata": {},
   "outputs": [
    {
     "name": "stdout",
     "output_type": "stream",
     "text": [
      "Ular python adalah reptil yang memiliki panjang 200 cm.\n"
     ]
    }
   ],
   "source": [
    "ular_1 = Snake('python')\n",
    "ular_1.change_length(200)\n",
    "print(ular_1)"
   ]
  },
  {
   "cell_type": "code",
   "execution_count": 86,
   "id": "0849747e-961e-4569-a855-50b75e6e7845",
   "metadata": {},
   "outputs": [
    {
     "name": "stdout",
     "output_type": "stream",
     "text": [
      "Ular anaconda adalah reptil yang memiliki panjang 500 cm.\n"
     ]
    }
   ],
   "source": [
    "ular_2 = Snake('anaconda')\n",
    "ular_2.change_length(500)\n",
    "print(ular_2)"
   ]
  },
  {
   "cell_type": "markdown",
   "id": "5c07ee3e-5884-43e0-b733-ec99d8836645",
   "metadata": {},
   "source": [
    "### 2. Class - Use Case"
   ]
  },
  {
   "cell_type": "code",
   "execution_count": 118,
   "id": "c02b58d6-a4b2-458c-a011-4dd2cc030f4c",
   "metadata": {},
   "outputs": [],
   "source": [
    "class Loan:\n",
    "    default_interest = 0.12\n",
    "    \n",
    "    def calculate_installment(self):\n",
    "        monthly_interest = self.interest/12\n",
    "        numerator = self.loan_principal * monthly_interest * (1+monthly_interest)**self.loan_tenure\n",
    "        denominator = (1+monthly_interest)**self.loan_tenure\n",
    "        self.cicilan_bulanan = numerator/(denominator-1)\n",
    "\n",
    "    def generate_installment_schedule(self):\n",
    "        total_bayar = 0\n",
    "        for iter in range(self.loan_tenure):\n",
    "            bulan_ke = iter+1\n",
    "            cicilan = round(self.cicilan_bulanan/1000)*1000\n",
    "            total_bayar += cicilan\n",
    "            print('No Pinjaman {}, Cicilan bulan ke {} ialah sebesar Rp {:,} dengan total bayar Rp {:,}'.format(\n",
    "                self.loan_id, bulan_ke, cicilan, total_bayar))\n",
    "\n",
    "    def __init__(self, loan_id, loan_principal, loan_tenure, interest=default_interest):\n",
    "        self.loan_id = loan_id\n",
    "        self.loan_principal = loan_principal\n",
    "        self.loan_tenure = loan_tenure\n",
    "        self.interest = interest\n",
    "        self.calculate_installment()\n"
   ]
  },
  {
   "cell_type": "code",
   "execution_count": 119,
   "id": "38537a30-d836-4e21-b155-66a1330a5521",
   "metadata": {},
   "outputs": [
    {
     "name": "stdout",
     "output_type": "stream",
     "text": [
      "No Pinjaman A001, Cicilan bulan ke 1 ialah sebesar Rp 47,000 dengan total bayar Rp 47,000\n",
      "No Pinjaman A001, Cicilan bulan ke 2 ialah sebesar Rp 47,000 dengan total bayar Rp 94,000\n",
      "No Pinjaman A001, Cicilan bulan ke 3 ialah sebesar Rp 47,000 dengan total bayar Rp 141,000\n",
      "No Pinjaman A001, Cicilan bulan ke 4 ialah sebesar Rp 47,000 dengan total bayar Rp 188,000\n",
      "No Pinjaman A001, Cicilan bulan ke 5 ialah sebesar Rp 47,000 dengan total bayar Rp 235,000\n",
      "No Pinjaman A001, Cicilan bulan ke 6 ialah sebesar Rp 47,000 dengan total bayar Rp 282,000\n",
      "No Pinjaman A001, Cicilan bulan ke 7 ialah sebesar Rp 47,000 dengan total bayar Rp 329,000\n",
      "No Pinjaman A001, Cicilan bulan ke 8 ialah sebesar Rp 47,000 dengan total bayar Rp 376,000\n",
      "No Pinjaman A001, Cicilan bulan ke 9 ialah sebesar Rp 47,000 dengan total bayar Rp 423,000\n",
      "No Pinjaman A001, Cicilan bulan ke 10 ialah sebesar Rp 47,000 dengan total bayar Rp 470,000\n",
      "No Pinjaman A001, Cicilan bulan ke 11 ialah sebesar Rp 47,000 dengan total bayar Rp 517,000\n",
      "No Pinjaman A001, Cicilan bulan ke 12 ialah sebesar Rp 47,000 dengan total bayar Rp 564,000\n",
      "No Pinjaman A001, Cicilan bulan ke 13 ialah sebesar Rp 47,000 dengan total bayar Rp 611,000\n",
      "No Pinjaman A001, Cicilan bulan ke 14 ialah sebesar Rp 47,000 dengan total bayar Rp 658,000\n",
      "No Pinjaman A001, Cicilan bulan ke 15 ialah sebesar Rp 47,000 dengan total bayar Rp 705,000\n",
      "No Pinjaman A001, Cicilan bulan ke 16 ialah sebesar Rp 47,000 dengan total bayar Rp 752,000\n",
      "No Pinjaman A001, Cicilan bulan ke 17 ialah sebesar Rp 47,000 dengan total bayar Rp 799,000\n",
      "No Pinjaman A001, Cicilan bulan ke 18 ialah sebesar Rp 47,000 dengan total bayar Rp 846,000\n",
      "No Pinjaman A001, Cicilan bulan ke 19 ialah sebesar Rp 47,000 dengan total bayar Rp 893,000\n",
      "No Pinjaman A001, Cicilan bulan ke 20 ialah sebesar Rp 47,000 dengan total bayar Rp 940,000\n",
      "No Pinjaman A001, Cicilan bulan ke 21 ialah sebesar Rp 47,000 dengan total bayar Rp 987,000\n",
      "No Pinjaman A001, Cicilan bulan ke 22 ialah sebesar Rp 47,000 dengan total bayar Rp 1,034,000\n",
      "No Pinjaman A001, Cicilan bulan ke 23 ialah sebesar Rp 47,000 dengan total bayar Rp 1,081,000\n",
      "No Pinjaman A001, Cicilan bulan ke 24 ialah sebesar Rp 47,000 dengan total bayar Rp 1,128,000\n"
     ]
    }
   ],
   "source": [
    "data_pinjaman = {\n",
    "    'loan_id' : 'A001', \n",
    "    'loan_principal' : 1000000, \n",
    "    'loan_tenure' : 24\n",
    "}\n",
    "\n",
    "loan_1 = Loan(data_pinjaman['loan_id'], data_pinjaman['loan_principal'], data_pinjaman['loan_tenure'])\n",
    "loan_1.generate_installment_schedule()"
   ]
  },
  {
   "cell_type": "code",
   "execution_count": 121,
   "id": "3c839071-b40f-4e7f-8f04-f794c7f0cf22",
   "metadata": {},
   "outputs": [
    {
     "name": "stdout",
     "output_type": "stream",
     "text": [
      "No Pinjaman A002, Cicilan bulan ke 1 ialah sebesar Rp 444,000 dengan total bayar Rp 444,000\n",
      "No Pinjaman A002, Cicilan bulan ke 2 ialah sebesar Rp 444,000 dengan total bayar Rp 888,000\n",
      "No Pinjaman A002, Cicilan bulan ke 3 ialah sebesar Rp 444,000 dengan total bayar Rp 1,332,000\n",
      "No Pinjaman A002, Cicilan bulan ke 4 ialah sebesar Rp 444,000 dengan total bayar Rp 1,776,000\n",
      "No Pinjaman A002, Cicilan bulan ke 5 ialah sebesar Rp 444,000 dengan total bayar Rp 2,220,000\n",
      "No Pinjaman A002, Cicilan bulan ke 6 ialah sebesar Rp 444,000 dengan total bayar Rp 2,664,000\n",
      "No Pinjaman A002, Cicilan bulan ke 7 ialah sebesar Rp 444,000 dengan total bayar Rp 3,108,000\n",
      "No Pinjaman A002, Cicilan bulan ke 8 ialah sebesar Rp 444,000 dengan total bayar Rp 3,552,000\n",
      "No Pinjaman A002, Cicilan bulan ke 9 ialah sebesar Rp 444,000 dengan total bayar Rp 3,996,000\n",
      "No Pinjaman A002, Cicilan bulan ke 10 ialah sebesar Rp 444,000 dengan total bayar Rp 4,440,000\n",
      "No Pinjaman A002, Cicilan bulan ke 11 ialah sebesar Rp 444,000 dengan total bayar Rp 4,884,000\n",
      "No Pinjaman A002, Cicilan bulan ke 12 ialah sebesar Rp 444,000 dengan total bayar Rp 5,328,000\n"
     ]
    }
   ],
   "source": [
    "data_pinjaman = {\n",
    "    'loan_id' : 'A002', \n",
    "    'loan_principal' : 5000000, \n",
    "    'loan_tenure' : 12,\n",
    "    'interest' : 0.17\n",
    "}\n",
    "\n",
    "loan_2 = Loan(data_pinjaman['loan_id'], data_pinjaman['loan_principal'], data_pinjaman['loan_tenure'])\n",
    "loan_2.generate_installment_schedule()"
   ]
  },
  {
   "cell_type": "code",
   "execution_count": null,
   "id": "c8da2a46-b871-4d63-a5ac-d2f2743c21af",
   "metadata": {},
   "outputs": [],
   "source": []
  }
 ],
 "metadata": {
  "kernelspec": {
   "display_name": "Python 3 (ipykernel)",
   "language": "python",
   "name": "python3"
  },
  "language_info": {
   "codemirror_mode": {
    "name": "ipython",
    "version": 3
   },
   "file_extension": ".py",
   "mimetype": "text/x-python",
   "name": "python",
   "nbconvert_exporter": "python",
   "pygments_lexer": "ipython3",
   "version": "3.9.6"
  }
 },
 "nbformat": 4,
 "nbformat_minor": 5
}
