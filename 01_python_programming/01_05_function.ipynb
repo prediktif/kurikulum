{
 "cells": [
  {
   "cell_type": "markdown",
   "id": "e825e01c-92ac-4a40-995e-7da4afcafc57",
   "metadata": {},
   "source": [
    "# Function"
   ]
  },
  {
   "cell_type": "markdown",
   "id": "085e2aff-61eb-4fa2-9fb4-e887bf74b862",
   "metadata": {},
   "source": [
    "## Goal\n",
    "- Memperkenalkan bagaimana python melakukan simplifikasi proses yang berulang melalui function"
   ]
  },
  {
   "cell_type": "markdown",
   "id": "a13961e3-8366-4f18-87a8-4daee9134c20",
   "metadata": {},
   "source": [
    "## Referensi\n",
    "- https://www.analyticsvidhya.com/blog/2021/07/all-fundamentals-of-python-functions-that-you-should-know-a-quick-brush-up/"
   ]
  },
  {
   "cell_type": "markdown",
   "id": "761c6387-bce1-48a1-a378-39ece1159b02",
   "metadata": {},
   "source": [
    "### 1. Function - Basic"
   ]
  },
  {
   "cell_type": "code",
   "execution_count": 3,
   "id": "953d0639-58ed-4c9b-acdd-1faef41a68de",
   "metadata": {},
   "outputs": [
    {
     "name": "stdout",
     "output_type": "stream",
     "text": [
      "25.0\n",
      "36.0\n",
      "80.0\n"
     ]
    }
   ],
   "source": [
    "panjang = 10\n",
    "tinggi = 5\n",
    "luas_segitiga = panjang * tinggi * 0.5\n",
    "print(luas_segitiga)\n",
    "\n",
    "panjang = 12\n",
    "tinggi = 6\n",
    "luas_segitiga = panjang * tinggi * 0.5\n",
    "print(luas_segitiga)\n",
    "\n",
    "panjang = 8\n",
    "tinggi = 20\n",
    "luas_segitiga = panjang * tinggi * 0.5\n",
    "print(luas_segitiga)"
   ]
  },
  {
   "cell_type": "code",
   "execution_count": 4,
   "id": "0dfdf0e6-c140-4967-8650-47356e70bf81",
   "metadata": {},
   "outputs": [
    {
     "name": "stdout",
     "output_type": "stream",
     "text": [
      "25.0\n",
      "36.0\n",
      "80.0\n"
     ]
    }
   ],
   "source": [
    "def luas_segitiga(panjang, tinggi):\n",
    "    print(panjang * tinggi * 0.5)\n",
    "\n",
    "luas_segitiga(10, 5)\n",
    "luas_segitiga(12, 6)\n",
    "luas_segitiga(8, 20)"
   ]
  },
  {
   "cell_type": "code",
   "execution_count": 6,
   "id": "58edcd49-13eb-4d67-809c-98aff312d710",
   "metadata": {},
   "outputs": [
    {
     "name": "stdout",
     "output_type": "stream",
     "text": [
      "25.0\n",
      "36.0\n",
      "80.0\n"
     ]
    }
   ],
   "source": [
    "data = [\n",
    "    {'panjang' : 10, 'tinggi' : 5},\n",
    "    {'panjang' : 12, 'tinggi' : 6},\n",
    "    {'panjang' : 8, 'tinggi' : 20},\n",
    "]\n",
    "\n",
    "for i in data:\n",
    "    luas_segitiga(i['panjang'], i['tinggi'])"
   ]
  },
  {
   "cell_type": "markdown",
   "id": "c2159777-17b4-436c-b8dc-04632b2ef2b3",
   "metadata": {},
   "source": [
    "### 2. Function With Default Argument"
   ]
  },
  {
   "cell_type": "code",
   "execution_count": 16,
   "id": "453bef5d-0f27-4253-b113-fac945332163",
   "metadata": {},
   "outputs": [],
   "source": [
    "def calculate_installment(loan_principal, loan_tenure, interest=0.12):\n",
    "    monthly_interest = interest/12\n",
    "    numerator = loan_principal * monthly_interest * (1+monthly_interest)**loan_tenure\n",
    "    denominator = (1+monthly_interest)**loan_tenure\n",
    "    print(numerator/(denominator-1))"
   ]
  },
  {
   "cell_type": "code",
   "execution_count": 17,
   "id": "dd609d6c-bb54-429f-be2b-c5566285630d",
   "metadata": {},
   "outputs": [
    {
     "name": "stdout",
     "output_type": "stream",
     "text": [
      "47073.47222326467\n"
     ]
    }
   ],
   "source": [
    "calculate_installment(loan_principal=1000000, loan_tenure=24)"
   ]
  },
  {
   "cell_type": "code",
   "execution_count": 15,
   "id": "607a0f40-d00e-411e-ad06-b81382e86ee3",
   "metadata": {},
   "outputs": [
    {
     "name": "stdout",
     "output_type": "stream",
     "text": [
      "51878.15464773579\n"
     ]
    }
   ],
   "source": [
    "calculate_installment(loan_principal=1000000, loan_tenure=24, interest=0.22)"
   ]
  },
  {
   "cell_type": "markdown",
   "id": "f8b72ba8-8151-4241-85b7-a7b0eac03c51",
   "metadata": {},
   "source": [
    "### 3. Function With Return Value"
   ]
  },
  {
   "cell_type": "code",
   "execution_count": 18,
   "id": "d86138ba-4487-4ecc-959d-6ed115fbe0d1",
   "metadata": {},
   "outputs": [],
   "source": [
    "def calculate_installment(loan_principal, loan_tenure, interest=0.12):\n",
    "    monthly_interest = interest/12\n",
    "    numerator = loan_principal * monthly_interest * (1+monthly_interest)**loan_tenure\n",
    "    denominator = (1+monthly_interest)**loan_tenure\n",
    "    return numerator/(denominator-1)"
   ]
  },
  {
   "cell_type": "code",
   "execution_count": 19,
   "id": "48b92232-a5fd-4377-b870-e9f3fbc304c9",
   "metadata": {},
   "outputs": [
    {
     "data": {
      "text/plain": [
       "47073.47222326467"
      ]
     },
     "execution_count": 19,
     "metadata": {},
     "output_type": "execute_result"
    }
   ],
   "source": [
    "cicilan_bulanan = calculate_installment(loan_principal=1000000, loan_tenure=24)\n",
    "cicilan_bulanan"
   ]
  },
  {
   "cell_type": "code",
   "execution_count": 34,
   "id": "4f945676-ebd4-42e9-9406-7ba97467135f",
   "metadata": {},
   "outputs": [],
   "source": [
    "def generate_installment_schedule(loan_tenure, cicilan_bulanan):\n",
    "    total_bayar = 0\n",
    "    for iter in range(loan_tenure):\n",
    "        bulan_ke = iter+1\n",
    "        cicilan = round(cicilan_bulanan/1000)*1000\n",
    "        total_bayar += cicilan\n",
    "        print('Cicilan bulan ke {} ialah sebesar Rp {:,} dengan total bayar Rp {:,}'.format(bulan_ke, cicilan, total_bayar))"
   ]
  },
  {
   "cell_type": "code",
   "execution_count": 35,
   "id": "ff445e8b-7f6f-4ac9-9903-2c26ae3d318d",
   "metadata": {},
   "outputs": [
    {
     "name": "stdout",
     "output_type": "stream",
     "text": [
      "Cicilan bulan ke 1 ialah sebesar Rp 47,000 dengan total bayar Rp 47,000\n",
      "Cicilan bulan ke 2 ialah sebesar Rp 47,000 dengan total bayar Rp 94,000\n",
      "Cicilan bulan ke 3 ialah sebesar Rp 47,000 dengan total bayar Rp 141,000\n",
      "Cicilan bulan ke 4 ialah sebesar Rp 47,000 dengan total bayar Rp 188,000\n",
      "Cicilan bulan ke 5 ialah sebesar Rp 47,000 dengan total bayar Rp 235,000\n",
      "Cicilan bulan ke 6 ialah sebesar Rp 47,000 dengan total bayar Rp 282,000\n",
      "Cicilan bulan ke 7 ialah sebesar Rp 47,000 dengan total bayar Rp 329,000\n",
      "Cicilan bulan ke 8 ialah sebesar Rp 47,000 dengan total bayar Rp 376,000\n",
      "Cicilan bulan ke 9 ialah sebesar Rp 47,000 dengan total bayar Rp 423,000\n",
      "Cicilan bulan ke 10 ialah sebesar Rp 47,000 dengan total bayar Rp 470,000\n",
      "Cicilan bulan ke 11 ialah sebesar Rp 47,000 dengan total bayar Rp 517,000\n",
      "Cicilan bulan ke 12 ialah sebesar Rp 47,000 dengan total bayar Rp 564,000\n",
      "Cicilan bulan ke 13 ialah sebesar Rp 47,000 dengan total bayar Rp 611,000\n",
      "Cicilan bulan ke 14 ialah sebesar Rp 47,000 dengan total bayar Rp 658,000\n",
      "Cicilan bulan ke 15 ialah sebesar Rp 47,000 dengan total bayar Rp 705,000\n",
      "Cicilan bulan ke 16 ialah sebesar Rp 47,000 dengan total bayar Rp 752,000\n",
      "Cicilan bulan ke 17 ialah sebesar Rp 47,000 dengan total bayar Rp 799,000\n",
      "Cicilan bulan ke 18 ialah sebesar Rp 47,000 dengan total bayar Rp 846,000\n",
      "Cicilan bulan ke 19 ialah sebesar Rp 47,000 dengan total bayar Rp 893,000\n",
      "Cicilan bulan ke 20 ialah sebesar Rp 47,000 dengan total bayar Rp 940,000\n",
      "Cicilan bulan ke 21 ialah sebesar Rp 47,000 dengan total bayar Rp 987,000\n",
      "Cicilan bulan ke 22 ialah sebesar Rp 47,000 dengan total bayar Rp 1,034,000\n",
      "Cicilan bulan ke 23 ialah sebesar Rp 47,000 dengan total bayar Rp 1,081,000\n",
      "Cicilan bulan ke 24 ialah sebesar Rp 47,000 dengan total bayar Rp 1,128,000\n"
     ]
    }
   ],
   "source": [
    "generate_installment_schedule(24, cicilan_bulanan)"
   ]
  },
  {
   "cell_type": "markdown",
   "id": "a7bbd3e2-c4ca-4cb0-bd60-93bd2b718bc8",
   "metadata": {},
   "source": [
    "### 4. Function - Wrap the code"
   ]
  },
  {
   "cell_type": "code",
   "execution_count": 40,
   "id": "836be572-42cf-4bbc-bc6e-f26a06f7cc6f",
   "metadata": {},
   "outputs": [
    {
     "name": "stdout",
     "output_type": "stream",
     "text": [
      "No Pinjaman A001, Cicilan bulan ke 1 ialah sebesar Rp 47,000 dengan total bayar Rp 47,000\n",
      "No Pinjaman A001, Cicilan bulan ke 2 ialah sebesar Rp 47,000 dengan total bayar Rp 94,000\n",
      "No Pinjaman A001, Cicilan bulan ke 3 ialah sebesar Rp 47,000 dengan total bayar Rp 141,000\n",
      "No Pinjaman A001, Cicilan bulan ke 4 ialah sebesar Rp 47,000 dengan total bayar Rp 188,000\n",
      "No Pinjaman A001, Cicilan bulan ke 5 ialah sebesar Rp 47,000 dengan total bayar Rp 235,000\n",
      "No Pinjaman A001, Cicilan bulan ke 6 ialah sebesar Rp 47,000 dengan total bayar Rp 282,000\n",
      "No Pinjaman A001, Cicilan bulan ke 7 ialah sebesar Rp 47,000 dengan total bayar Rp 329,000\n",
      "No Pinjaman A001, Cicilan bulan ke 8 ialah sebesar Rp 47,000 dengan total bayar Rp 376,000\n",
      "No Pinjaman A001, Cicilan bulan ke 9 ialah sebesar Rp 47,000 dengan total bayar Rp 423,000\n",
      "No Pinjaman A001, Cicilan bulan ke 10 ialah sebesar Rp 47,000 dengan total bayar Rp 470,000\n",
      "No Pinjaman A001, Cicilan bulan ke 11 ialah sebesar Rp 47,000 dengan total bayar Rp 517,000\n",
      "No Pinjaman A001, Cicilan bulan ke 12 ialah sebesar Rp 47,000 dengan total bayar Rp 564,000\n",
      "No Pinjaman A001, Cicilan bulan ke 13 ialah sebesar Rp 47,000 dengan total bayar Rp 611,000\n",
      "No Pinjaman A001, Cicilan bulan ke 14 ialah sebesar Rp 47,000 dengan total bayar Rp 658,000\n",
      "No Pinjaman A001, Cicilan bulan ke 15 ialah sebesar Rp 47,000 dengan total bayar Rp 705,000\n",
      "No Pinjaman A001, Cicilan bulan ke 16 ialah sebesar Rp 47,000 dengan total bayar Rp 752,000\n",
      "No Pinjaman A001, Cicilan bulan ke 17 ialah sebesar Rp 47,000 dengan total bayar Rp 799,000\n",
      "No Pinjaman A001, Cicilan bulan ke 18 ialah sebesar Rp 47,000 dengan total bayar Rp 846,000\n",
      "No Pinjaman A001, Cicilan bulan ke 19 ialah sebesar Rp 47,000 dengan total bayar Rp 893,000\n",
      "No Pinjaman A001, Cicilan bulan ke 20 ialah sebesar Rp 47,000 dengan total bayar Rp 940,000\n",
      "No Pinjaman A001, Cicilan bulan ke 21 ialah sebesar Rp 47,000 dengan total bayar Rp 987,000\n",
      "No Pinjaman A001, Cicilan bulan ke 22 ialah sebesar Rp 47,000 dengan total bayar Rp 1,034,000\n",
      "No Pinjaman A001, Cicilan bulan ke 23 ialah sebesar Rp 47,000 dengan total bayar Rp 1,081,000\n",
      "No Pinjaman A001, Cicilan bulan ke 24 ialah sebesar Rp 47,000 dengan total bayar Rp 1,128,000\n",
      "\n",
      "No Pinjaman A002, Cicilan bulan ke 1 ialah sebesar Rp 456,000 dengan total bayar Rp 456,000\n",
      "No Pinjaman A002, Cicilan bulan ke 2 ialah sebesar Rp 456,000 dengan total bayar Rp 912,000\n",
      "No Pinjaman A002, Cicilan bulan ke 3 ialah sebesar Rp 456,000 dengan total bayar Rp 1,368,000\n",
      "No Pinjaman A002, Cicilan bulan ke 4 ialah sebesar Rp 456,000 dengan total bayar Rp 1,824,000\n",
      "No Pinjaman A002, Cicilan bulan ke 5 ialah sebesar Rp 456,000 dengan total bayar Rp 2,280,000\n",
      "No Pinjaman A002, Cicilan bulan ke 6 ialah sebesar Rp 456,000 dengan total bayar Rp 2,736,000\n",
      "No Pinjaman A002, Cicilan bulan ke 7 ialah sebesar Rp 456,000 dengan total bayar Rp 3,192,000\n",
      "No Pinjaman A002, Cicilan bulan ke 8 ialah sebesar Rp 456,000 dengan total bayar Rp 3,648,000\n",
      "No Pinjaman A002, Cicilan bulan ke 9 ialah sebesar Rp 456,000 dengan total bayar Rp 4,104,000\n",
      "No Pinjaman A002, Cicilan bulan ke 10 ialah sebesar Rp 456,000 dengan total bayar Rp 4,560,000\n",
      "No Pinjaman A002, Cicilan bulan ke 11 ialah sebesar Rp 456,000 dengan total bayar Rp 5,016,000\n",
      "No Pinjaman A002, Cicilan bulan ke 12 ialah sebesar Rp 456,000 dengan total bayar Rp 5,472,000\n",
      "\n"
     ]
    }
   ],
   "source": [
    "def calculate_installment(loan_principal, loan_tenure, interest=0.12):\n",
    "    monthly_interest = interest/12\n",
    "    numerator = loan_principal * monthly_interest * (1+monthly_interest)**loan_tenure\n",
    "    denominator = (1+monthly_interest)**loan_tenure\n",
    "    return numerator/(denominator-1)\n",
    "\n",
    "def generate_installment_schedule(loan_id, loan_tenure, cicilan_bulanan):\n",
    "    total_bayar = 0\n",
    "    for iter in range(loan_tenure):\n",
    "        bulan_ke = iter+1\n",
    "        cicilan = round(cicilan_bulanan/1000)*1000\n",
    "        total_bayar += cicilan\n",
    "        print('No Pinjaman {}, Cicilan bulan ke {} ialah sebesar Rp {:,} dengan total bayar Rp {:,}'.format(\n",
    "            loan_id, bulan_ke, cicilan, total_bayar))\n",
    "\n",
    "data_pinjaman = [\n",
    "    {'loan_id' : 'A001', 'loan_principal' : 1000000, 'loan_tenure' : 24},\n",
    "    {'loan_id' : 'A002', 'loan_principal' : 5000000, 'loan_tenure' : 12, 'interest' : 0.17}\n",
    "]\n",
    "\n",
    "for data in data_pinjaman:\n",
    "    loan_id = data['loan_id']\n",
    "    loan_principal = data['loan_principal']\n",
    "    loan_tenure = data['loan_tenure']\n",
    "    if 'interest' in data.keys():\n",
    "        cicilan_bulanan = calculate_installment(loan_principal, loan_tenure, data['interest'])\n",
    "    else:\n",
    "        cicilan_bulanan = calculate_installment(loan_principal, loan_tenure)\n",
    "    generate_installment_schedule(loan_id, loan_tenure, cicilan_bulanan)\n",
    "    print()"
   ]
  },
  {
   "cell_type": "code",
   "execution_count": null,
   "id": "1c7f1710-1f04-4792-a530-748bbe4e7752",
   "metadata": {},
   "outputs": [],
   "source": []
  }
 ],
 "metadata": {
  "kernelspec": {
   "display_name": "Python 3 (ipykernel)",
   "language": "python",
   "name": "python3"
  },
  "language_info": {
   "codemirror_mode": {
    "name": "ipython",
    "version": 3
   },
   "file_extension": ".py",
   "mimetype": "text/x-python",
   "name": "python",
   "nbconvert_exporter": "python",
   "pygments_lexer": "ipython3",
   "version": "3.9.6"
  }
 },
 "nbformat": 4,
 "nbformat_minor": 5
}
