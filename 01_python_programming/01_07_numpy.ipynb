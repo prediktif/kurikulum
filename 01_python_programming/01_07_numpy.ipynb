{
 "cells": [
  {
   "cell_type": "markdown",
   "id": "e825e01c-92ac-4a40-995e-7da4afcafc57",
   "metadata": {},
   "source": [
    "# Numpy"
   ]
  },
  {
   "cell_type": "markdown",
   "id": "085e2aff-61eb-4fa2-9fb4-e887bf74b862",
   "metadata": {},
   "source": [
    "## Goal\n",
    "- Memperkenalkan library python untuk pengolahan data berbentuk matrix"
   ]
  },
  {
   "cell_type": "markdown",
   "id": "a13961e3-8366-4f18-87a8-4daee9134c20",
   "metadata": {},
   "source": [
    "## Referensi\n",
    "- https://cs231n.github.io/python-numpy-tutorial/"
   ]
  },
  {
   "cell_type": "markdown",
   "id": "761c6387-bce1-48a1-a378-39ece1159b02",
   "metadata": {},
   "source": [
    "### 1. Numpy - Basic"
   ]
  },
  {
   "cell_type": "code",
   "execution_count": 270,
   "id": "dea867f7-b347-4196-972e-50eb4ad9f0cd",
   "metadata": {},
   "outputs": [],
   "source": [
    "import numpy as np"
   ]
  },
  {
   "cell_type": "markdown",
   "id": "8b5da8c7-25dd-4a57-a067-9b4e4771c672",
   "metadata": {},
   "source": [
    "1. List adalah suatu object yang dapat menampung lebih dari satu object.\n",
    "2. List dapat memuat object list.\n",
    "3. Array adalah suatu object yang dapat menampung lebih dari 1 object yang homogen dan memiliki dimensi sebanyak n. \n",
    "4. Matrix adalah suatu object yang dapat menampung lebih dari 1 object yang homogen dan memiliki dimensi 2. Matrix adalah subset dari Array.\n",
    "5. Numpy adalah tools untuk memproses array."
   ]
  },
  {
   "cell_type": "code",
   "execution_count": 271,
   "id": "167552bb-28ae-4ea7-a5ec-e1050065be44",
   "metadata": {},
   "outputs": [
    {
     "data": {
      "text/plain": [
       "[1, 2, 3]"
      ]
     },
     "execution_count": 271,
     "metadata": {},
     "output_type": "execute_result"
    }
   ],
   "source": [
    "# list object\n",
    "list_obj = [1, 2, 3]\n",
    "list_obj"
   ]
  },
  {
   "cell_type": "code",
   "execution_count": 272,
   "id": "034121d3-7666-4ade-bcca-5843cc584b04",
   "metadata": {},
   "outputs": [
    {
     "data": {
      "text/plain": [
       "3"
      ]
     },
     "execution_count": 272,
     "metadata": {},
     "output_type": "execute_result"
    }
   ],
   "source": [
    "len(list_obj)"
   ]
  },
  {
   "cell_type": "code",
   "execution_count": 273,
   "id": "1d6f8ab7-30bd-41af-9fe6-2d6de3395125",
   "metadata": {},
   "outputs": [
    {
     "data": {
      "text/plain": [
       "array([1, 2, 3])"
      ]
     },
     "execution_count": 273,
     "metadata": {},
     "output_type": "execute_result"
    }
   ],
   "source": [
    "# array object dengan 1 dimensi berukuran 3\n",
    "arr_obj = np.array(list_obj)\n",
    "arr_obj"
   ]
  },
  {
   "cell_type": "code",
   "execution_count": 274,
   "id": "bd87d7f6-b64c-4875-8871-aae0b821ec39",
   "metadata": {},
   "outputs": [
    {
     "data": {
      "text/plain": [
       "3"
      ]
     },
     "execution_count": 274,
     "metadata": {},
     "output_type": "execute_result"
    }
   ],
   "source": [
    "len(arr_obj)"
   ]
  },
  {
   "cell_type": "code",
   "execution_count": 275,
   "id": "fecf6a05-c534-4ce9-ac6d-8bcbf83b703f",
   "metadata": {},
   "outputs": [
    {
     "data": {
      "text/plain": [
       "(3,)"
      ]
     },
     "execution_count": 275,
     "metadata": {},
     "output_type": "execute_result"
    }
   ],
   "source": [
    "arr_obj.shape"
   ]
  },
  {
   "cell_type": "code",
   "execution_count": 276,
   "id": "7b57a9ce-b20d-4115-8a8f-112e8cb8fff4",
   "metadata": {},
   "outputs": [
    {
     "data": {
      "text/plain": [
       "matrix([[1, 2, 3]])"
      ]
     },
     "execution_count": 276,
     "metadata": {},
     "output_type": "execute_result"
    }
   ],
   "source": [
    "# array object dengan 2 dimensi berukuran 1 x 3\n",
    "mtx_obj = np.matrix(list_obj)\n",
    "mtx_obj"
   ]
  },
  {
   "cell_type": "code",
   "execution_count": 277,
   "id": "1aa9f651-47bb-411c-9865-64210f386389",
   "metadata": {},
   "outputs": [
    {
     "data": {
      "text/plain": [
       "(1, 3)"
      ]
     },
     "execution_count": 277,
     "metadata": {},
     "output_type": "execute_result"
    }
   ],
   "source": [
    "mtx_obj.shape"
   ]
  },
  {
   "cell_type": "code",
   "execution_count": 278,
   "id": "752131fc-6db9-429f-b9d0-b64ddaf84925",
   "metadata": {},
   "outputs": [
    {
     "data": {
      "text/plain": [
       "matrix([[1],\n",
       "        [2],\n",
       "        [3]])"
      ]
     },
     "execution_count": 278,
     "metadata": {},
     "output_type": "execute_result"
    }
   ],
   "source": [
    "# array object dengan 2 dimensi berukuran 3 x 1\n",
    "mtx_obj_reshape = mtx_obj.reshape(3,-1)\n",
    "mtx_obj_reshape"
   ]
  },
  {
   "cell_type": "code",
   "execution_count": 279,
   "id": "0741432e-c51b-4a96-8a79-8c04bab0ff0f",
   "metadata": {},
   "outputs": [
    {
     "data": {
      "text/plain": [
       "(3, 1)"
      ]
     },
     "execution_count": 279,
     "metadata": {},
     "output_type": "execute_result"
    }
   ],
   "source": [
    "mtx_obj_reshape.shape"
   ]
  },
  {
   "cell_type": "code",
   "execution_count": 280,
   "id": "45b714fe-98ff-443f-99fa-1cbc5373743d",
   "metadata": {},
   "outputs": [
    {
     "data": {
      "text/plain": [
       "[1, 2, 'test']"
      ]
     },
     "execution_count": 280,
     "metadata": {},
     "output_type": "execute_result"
    }
   ],
   "source": [
    "# list object\n",
    "list_obj = [1, 2, 'test']\n",
    "list_obj"
   ]
  },
  {
   "cell_type": "code",
   "execution_count": 281,
   "id": "8bc262e6-1656-4cd9-8248-e5cfd897e766",
   "metadata": {},
   "outputs": [
    {
     "data": {
      "text/plain": [
       "array(['1', '2', 'test'], dtype='<U21')"
      ]
     },
     "execution_count": 281,
     "metadata": {},
     "output_type": "execute_result"
    }
   ],
   "source": [
    "# array object dengan 1 dimensi berukuran 3\n",
    "arr_obj = np.array(list_obj)\n",
    "arr_obj"
   ]
  },
  {
   "cell_type": "code",
   "execution_count": 282,
   "id": "792c4637-6ff3-4af1-9fc2-8ca8b773d3ca",
   "metadata": {},
   "outputs": [
    {
     "data": {
      "text/plain": [
       "[1, 2, ['test']]"
      ]
     },
     "execution_count": 282,
     "metadata": {},
     "output_type": "execute_result"
    }
   ],
   "source": [
    "# list object\n",
    "list_obj = [1, 2, ['test']]\n",
    "list_obj"
   ]
  },
  {
   "cell_type": "code",
   "execution_count": 283,
   "id": "1c87e937-c103-4493-ad83-d7c4476b7c69",
   "metadata": {},
   "outputs": [
    {
     "ename": "ValueError",
     "evalue": "setting an array element with a sequence. The requested array has an inhomogeneous shape after 1 dimensions. The detected shape was (3,) + inhomogeneous part.",
     "output_type": "error",
     "traceback": [
      "\u001b[0;31m---------------------------------------------------------------------------\u001b[0m",
      "\u001b[0;31mValueError\u001b[0m                                Traceback (most recent call last)",
      "Cell \u001b[0;32mIn[283], line 2\u001b[0m\n\u001b[1;32m      1\u001b[0m \u001b[38;5;66;03m# array object dengan 1 dimensi berukuran 3\u001b[39;00m\n\u001b[0;32m----> 2\u001b[0m arr_obj \u001b[38;5;241m=\u001b[39m \u001b[43mnp\u001b[49m\u001b[38;5;241;43m.\u001b[39;49m\u001b[43marray\u001b[49m\u001b[43m(\u001b[49m\u001b[43mlist_obj\u001b[49m\u001b[43m)\u001b[49m\n\u001b[1;32m      3\u001b[0m arr_obj\n",
      "\u001b[0;31mValueError\u001b[0m: setting an array element with a sequence. The requested array has an inhomogeneous shape after 1 dimensions. The detected shape was (3,) + inhomogeneous part."
     ]
    }
   ],
   "source": [
    "# array object dengan 1 dimensi berukuran 3\n",
    "arr_obj = np.array(list_obj)\n",
    "arr_obj"
   ]
  },
  {
   "cell_type": "code",
   "execution_count": 284,
   "id": "cfb5394b-518b-47b9-8528-8e83c49ad790",
   "metadata": {},
   "outputs": [
    {
     "data": {
      "text/plain": [
       "[[1], [2], ['test']]"
      ]
     },
     "execution_count": 284,
     "metadata": {},
     "output_type": "execute_result"
    }
   ],
   "source": [
    "# list object\n",
    "list_obj = [[1], [2], ['test']]\n",
    "list_obj"
   ]
  },
  {
   "cell_type": "code",
   "execution_count": 285,
   "id": "4e8ed537-6521-4f1d-85e5-e98c29fe6682",
   "metadata": {},
   "outputs": [
    {
     "data": {
      "text/plain": [
       "array([['1'],\n",
       "       ['2'],\n",
       "       ['test']], dtype='<U21')"
      ]
     },
     "execution_count": 285,
     "metadata": {},
     "output_type": "execute_result"
    }
   ],
   "source": [
    "# array object dengan 1 dimensi berukuran 3\n",
    "arr_obj = np.array(list_obj)\n",
    "arr_obj"
   ]
  },
  {
   "cell_type": "markdown",
   "id": "b51d43e1-7ffa-4c5d-b08f-cba4f32d767c",
   "metadata": {},
   "source": [
    "### 2. Numpy - Array Generator"
   ]
  },
  {
   "cell_type": "code",
   "execution_count": 286,
   "id": "d24160fa-1137-4bd8-824a-c4c2d799fd6d",
   "metadata": {},
   "outputs": [
    {
     "name": "stdout",
     "output_type": "stream",
     "text": [
      "[[0. 0. 0.]\n",
      " [0. 0. 0.]\n",
      " [0. 0. 0.]]\n"
     ]
    }
   ],
   "source": [
    "# Method yang mengenerate matrix nilai 0\n",
    "a = np.zeros((3,3))\n",
    "print(a)"
   ]
  },
  {
   "cell_type": "code",
   "execution_count": 287,
   "id": "aeefbd5e-a540-4f2c-80e1-05c0822b9dc1",
   "metadata": {},
   "outputs": [
    {
     "name": "stdout",
     "output_type": "stream",
     "text": [
      "[[1. 1. 1.]\n",
      " [1. 1. 1.]\n",
      " [1. 1. 1.]]\n"
     ]
    }
   ],
   "source": [
    "# Method yang mengenerate matrix nilai 1\n",
    "a = np.ones((3,3))\n",
    "print(a)"
   ]
  },
  {
   "cell_type": "code",
   "execution_count": 288,
   "id": "9521440e-13d1-473f-953a-93d16e7027b8",
   "metadata": {},
   "outputs": [
    {
     "name": "stdout",
     "output_type": "stream",
     "text": [
      "[[1. 0. 0.]\n",
      " [0. 1. 0.]\n",
      " [0. 0. 1.]]\n"
     ]
    }
   ],
   "source": [
    "# Method yang mengenerate matrix identitas (matrix dengan nilai 1 pada diagonal line)\n",
    "a = np.eye((3))\n",
    "print(a)"
   ]
  },
  {
   "cell_type": "code",
   "execution_count": 289,
   "id": "83a3ad3c-1ebc-4887-8fe9-6ed524309993",
   "metadata": {},
   "outputs": [
    {
     "name": "stdout",
     "output_type": "stream",
     "text": [
      "[[6 6 6]\n",
      " [6 6 6]\n",
      " [6 6 6]]\n"
     ]
    }
   ],
   "source": [
    "# Method yang mengenerate matrix dengan nilai sesuai yang diinginkan pada seluruh element matrix\n",
    "a = np.full((3,3), 6)\n",
    "print(a)"
   ]
  },
  {
   "cell_type": "code",
   "execution_count": 290,
   "id": "e7c30227-0d9f-443f-b385-26dd683db778",
   "metadata": {},
   "outputs": [
    {
     "name": "stdout",
     "output_type": "stream",
     "text": [
      "[[0.68535982 0.95339335 0.00394827]\n",
      " [0.51219226 0.81262096 0.61252607]\n",
      " [0.72175532 0.29187607 0.91777412]]\n"
     ]
    }
   ],
   "source": [
    "# Method yang mengenerate matrix dengan nilai random\n",
    "a = np.random.random((3,3))\n",
    "print(a)"
   ]
  },
  {
   "cell_type": "markdown",
   "id": "652a597d-69a1-4ada-b1d4-252cc0fba599",
   "metadata": {},
   "source": [
    "### 2. Numpy - Array Selection"
   ]
  },
  {
   "cell_type": "code",
   "execution_count": 291,
   "id": "c76e38bc-31e1-43f8-b712-c543998c0ac4",
   "metadata": {},
   "outputs": [
    {
     "data": {
      "text/plain": [
       "array([[ 1,  2,  3,  4],\n",
       "       [ 5,  6,  7,  8],\n",
       "       [ 9, 10, 11, 12],\n",
       "       [13, 14, 15, 16]])"
      ]
     },
     "execution_count": 291,
     "metadata": {},
     "output_type": "execute_result"
    }
   ],
   "source": [
    "mtx_obj = np.array([[1,2,3,4],[5,6,7,8],[9,10,11,12],[13,14,15,16]])\n",
    "mtx_obj"
   ]
  },
  {
   "cell_type": "code",
   "execution_count": 292,
   "id": "02f4d21b-85bc-4680-ba0d-4f4a70195d94",
   "metadata": {},
   "outputs": [
    {
     "data": {
      "text/plain": [
       "(4, 4)"
      ]
     },
     "execution_count": 292,
     "metadata": {},
     "output_type": "execute_result"
    }
   ],
   "source": [
    "mtx_obj.shape"
   ]
  },
  {
   "cell_type": "code",
   "execution_count": 293,
   "id": "3bd16ed6-8509-42c1-b151-8181413cbcf0",
   "metadata": {},
   "outputs": [
    {
     "data": {
      "text/plain": [
       "array([1, 2, 3, 4])"
      ]
     },
     "execution_count": 293,
     "metadata": {},
     "output_type": "execute_result"
    }
   ],
   "source": [
    "mtx_obj[0, :]"
   ]
  },
  {
   "cell_type": "code",
   "execution_count": 294,
   "id": "9babf068-c40e-4e1e-b6f2-11a1f759b96e",
   "metadata": {},
   "outputs": [
    {
     "data": {
      "text/plain": [
       "array([5, 6, 7, 8])"
      ]
     },
     "execution_count": 294,
     "metadata": {},
     "output_type": "execute_result"
    }
   ],
   "source": [
    "mtx_obj[1, :]"
   ]
  },
  {
   "cell_type": "code",
   "execution_count": 295,
   "id": "adcfb847-1b3c-4131-b48f-1b90f6afd3ba",
   "metadata": {},
   "outputs": [
    {
     "data": {
      "text/plain": [
       "array([ 9, 10, 11, 12])"
      ]
     },
     "execution_count": 295,
     "metadata": {},
     "output_type": "execute_result"
    }
   ],
   "source": [
    "mtx_obj[2, :]"
   ]
  },
  {
   "cell_type": "code",
   "execution_count": 296,
   "id": "9e3142cb-cb7e-42b7-9add-fc90b71f22b2",
   "metadata": {},
   "outputs": [
    {
     "data": {
      "text/plain": [
       "array([13, 14, 15, 16])"
      ]
     },
     "execution_count": 296,
     "metadata": {},
     "output_type": "execute_result"
    }
   ],
   "source": [
    "mtx_obj[3, :]"
   ]
  },
  {
   "cell_type": "code",
   "execution_count": 297,
   "id": "9b8e7dea-5141-447d-8c4d-8ee726e58111",
   "metadata": {},
   "outputs": [
    {
     "ename": "IndexError",
     "evalue": "index 4 is out of bounds for axis 0 with size 4",
     "output_type": "error",
     "traceback": [
      "\u001b[0;31m---------------------------------------------------------------------------\u001b[0m",
      "\u001b[0;31mIndexError\u001b[0m                                Traceback (most recent call last)",
      "Cell \u001b[0;32mIn[297], line 1\u001b[0m\n\u001b[0;32m----> 1\u001b[0m \u001b[43mmtx_obj\u001b[49m\u001b[43m[\u001b[49m\u001b[38;5;241;43m4\u001b[39;49m\u001b[43m,\u001b[49m\u001b[43m \u001b[49m\u001b[43m:\u001b[49m\u001b[43m]\u001b[49m\n",
      "\u001b[0;31mIndexError\u001b[0m: index 4 is out of bounds for axis 0 with size 4"
     ]
    }
   ],
   "source": [
    "mtx_obj[4, :]"
   ]
  },
  {
   "cell_type": "code",
   "execution_count": 298,
   "id": "8448ea16-1695-4c0c-aaf0-fdd7af1f9f70",
   "metadata": {},
   "outputs": [
    {
     "data": {
      "text/plain": [
       "array([[ 1,  2,  3,  4],\n",
       "       [ 5,  6,  7,  8],\n",
       "       [ 9, 10, 11, 12],\n",
       "       [13, 14, 15, 16]])"
      ]
     },
     "execution_count": 298,
     "metadata": {},
     "output_type": "execute_result"
    }
   ],
   "source": [
    "mtx_obj"
   ]
  },
  {
   "cell_type": "code",
   "execution_count": 299,
   "id": "7a3c2b88-361b-4c5d-89f0-9c58e8deefe7",
   "metadata": {},
   "outputs": [
    {
     "data": {
      "text/plain": [
       "array([ 1,  5,  9, 13])"
      ]
     },
     "execution_count": 299,
     "metadata": {},
     "output_type": "execute_result"
    }
   ],
   "source": [
    "mtx_obj[:, 0]"
   ]
  },
  {
   "cell_type": "code",
   "execution_count": 300,
   "id": "5282d246-ee2e-4b4b-90e6-ce66aeaeee6b",
   "metadata": {},
   "outputs": [
    {
     "data": {
      "text/plain": [
       "array([ 2,  6, 10, 14])"
      ]
     },
     "execution_count": 300,
     "metadata": {},
     "output_type": "execute_result"
    }
   ],
   "source": [
    "mtx_obj[:, 1]"
   ]
  },
  {
   "cell_type": "code",
   "execution_count": 301,
   "id": "8c792020-042b-496a-b823-d6126b2809d6",
   "metadata": {},
   "outputs": [
    {
     "data": {
      "text/plain": [
       "array([ 3,  7, 11, 15])"
      ]
     },
     "execution_count": 301,
     "metadata": {},
     "output_type": "execute_result"
    }
   ],
   "source": [
    "mtx_obj[:, 2]"
   ]
  },
  {
   "cell_type": "code",
   "execution_count": 302,
   "id": "cf9ab467-545b-42c1-804a-17b98b187128",
   "metadata": {},
   "outputs": [
    {
     "data": {
      "text/plain": [
       "array([ 4,  8, 12, 16])"
      ]
     },
     "execution_count": 302,
     "metadata": {},
     "output_type": "execute_result"
    }
   ],
   "source": [
    "mtx_obj[:, 3]"
   ]
  },
  {
   "cell_type": "code",
   "execution_count": 303,
   "id": "f2f60c4e-0b4f-4cdd-aa57-417898530c50",
   "metadata": {},
   "outputs": [
    {
     "ename": "IndexError",
     "evalue": "index 4 is out of bounds for axis 1 with size 4",
     "output_type": "error",
     "traceback": [
      "\u001b[0;31m---------------------------------------------------------------------------\u001b[0m",
      "\u001b[0;31mIndexError\u001b[0m                                Traceback (most recent call last)",
      "Cell \u001b[0;32mIn[303], line 1\u001b[0m\n\u001b[0;32m----> 1\u001b[0m \u001b[43mmtx_obj\u001b[49m\u001b[43m[\u001b[49m\u001b[43m:\u001b[49m\u001b[43m,\u001b[49m\u001b[43m \u001b[49m\u001b[38;5;241;43m4\u001b[39;49m\u001b[43m]\u001b[49m\n",
      "\u001b[0;31mIndexError\u001b[0m: index 4 is out of bounds for axis 1 with size 4"
     ]
    }
   ],
   "source": [
    "mtx_obj[:, 4]"
   ]
  },
  {
   "cell_type": "code",
   "execution_count": 304,
   "id": "ad3bfb3e-45a3-47ce-aaee-c5d98c8d4f39",
   "metadata": {},
   "outputs": [
    {
     "data": {
      "text/plain": [
       "array([[ 1,  2,  3,  4],\n",
       "       [ 5,  6,  7,  8],\n",
       "       [ 9, 10, 11, 12],\n",
       "       [13, 14, 15, 16]])"
      ]
     },
     "execution_count": 304,
     "metadata": {},
     "output_type": "execute_result"
    }
   ],
   "source": [
    "mtx_obj"
   ]
  },
  {
   "cell_type": "code",
   "execution_count": 305,
   "id": "68052349-36bb-47bb-8688-c92a002a1d09",
   "metadata": {},
   "outputs": [
    {
     "data": {
      "text/plain": [
       "array([[ 6,  7,  8],\n",
       "       [10, 11, 12],\n",
       "       [14, 15, 16]])"
      ]
     },
     "execution_count": 305,
     "metadata": {},
     "output_type": "execute_result"
    }
   ],
   "source": [
    "mtx_obj[1:,1:]"
   ]
  },
  {
   "cell_type": "code",
   "execution_count": 306,
   "id": "ed0297bb-dc73-43b9-ba47-b61232e3f47b",
   "metadata": {},
   "outputs": [
    {
     "data": {
      "text/plain": [
       "array([[ 1,  2,  3],\n",
       "       [ 5,  6,  7],\n",
       "       [ 9, 10, 11]])"
      ]
     },
     "execution_count": 306,
     "metadata": {},
     "output_type": "execute_result"
    }
   ],
   "source": [
    "mtx_obj[:-1,:-1]"
   ]
  },
  {
   "cell_type": "code",
   "execution_count": 307,
   "id": "e64d5157-e1db-4c7b-8402-fae9e3424ceb",
   "metadata": {},
   "outputs": [
    {
     "data": {
      "text/plain": [
       "array([[ 6,  7],\n",
       "       [10, 11]])"
      ]
     },
     "execution_count": 307,
     "metadata": {},
     "output_type": "execute_result"
    }
   ],
   "source": [
    "mtx_obj[1:-1,1:-1]"
   ]
  },
  {
   "cell_type": "code",
   "execution_count": 308,
   "id": "111616a5-d8e5-4dc9-949d-f50756476d8f",
   "metadata": {},
   "outputs": [
    {
     "data": {
      "text/plain": [
       "array([[ 1,  2,  3,  4],\n",
       "       [13, 14, 15, 16]])"
      ]
     },
     "execution_count": 308,
     "metadata": {},
     "output_type": "execute_result"
    }
   ],
   "source": [
    "mtx_obj[[0,3], :]"
   ]
  },
  {
   "cell_type": "code",
   "execution_count": 309,
   "id": "43ee3966-bc7c-476c-9784-90baf20396fe",
   "metadata": {},
   "outputs": [
    {
     "data": {
      "text/plain": [
       "array([[ 2,  4],\n",
       "       [ 6,  8],\n",
       "       [10, 12],\n",
       "       [14, 16]])"
      ]
     },
     "execution_count": 309,
     "metadata": {},
     "output_type": "execute_result"
    }
   ],
   "source": [
    "mtx_obj[:, [1,3]]"
   ]
  },
  {
   "cell_type": "code",
   "execution_count": 310,
   "id": "38542769-e794-4937-93c3-c3308095c723",
   "metadata": {},
   "outputs": [
    {
     "data": {
      "text/plain": [
       "array([10, 16])"
      ]
     },
     "execution_count": 310,
     "metadata": {},
     "output_type": "execute_result"
    }
   ],
   "source": [
    "mtx_obj[[2,3], [1,3]]"
   ]
  },
  {
   "cell_type": "markdown",
   "id": "a6c2a5db-84d5-44af-9bfe-aaabae9a84fc",
   "metadata": {},
   "source": [
    "### 3. Numpy - Array Operations"
   ]
  },
  {
   "cell_type": "code",
   "execution_count": 311,
   "id": "943c138d-751e-4e64-bac0-6e4315406db0",
   "metadata": {},
   "outputs": [],
   "source": [
    "### Operasi skalar"
   ]
  },
  {
   "cell_type": "code",
   "execution_count": 312,
   "id": "b82d44bb-361e-4dcf-abcb-0834e4b373a7",
   "metadata": {},
   "outputs": [
    {
     "data": {
      "text/plain": [
       "array([[1, 2],\n",
       "       [3, 4],\n",
       "       [5, 6]])"
      ]
     },
     "execution_count": 312,
     "metadata": {},
     "output_type": "execute_result"
    }
   ],
   "source": [
    "mtx_obj_1 = np.array([[1,2],[3,4],[5,6]])\n",
    "mtx_obj_1"
   ]
  },
  {
   "cell_type": "code",
   "execution_count": 313,
   "id": "fef1f06a-9310-4e5c-9ab0-a2b0e66d4854",
   "metadata": {},
   "outputs": [
    {
     "data": {
      "text/plain": [
       "(3, 2)"
      ]
     },
     "execution_count": 313,
     "metadata": {},
     "output_type": "execute_result"
    }
   ],
   "source": [
    "mtx_obj_1.shape"
   ]
  },
  {
   "cell_type": "code",
   "execution_count": 314,
   "id": "cf81a72c-811e-4b44-8857-29d34efae137",
   "metadata": {},
   "outputs": [
    {
     "data": {
      "text/plain": [
       "array([[ 2,  4],\n",
       "       [ 6,  8],\n",
       "       [10, 12]])"
      ]
     },
     "execution_count": 314,
     "metadata": {},
     "output_type": "execute_result"
    }
   ],
   "source": [
    "mtx_obj_1 * 2"
   ]
  },
  {
   "cell_type": "code",
   "execution_count": 315,
   "id": "36249d66-51b8-4328-ae3f-173d1810c93c",
   "metadata": {},
   "outputs": [
    {
     "data": {
      "text/plain": [
       "array([[3, 4],\n",
       "       [5, 6],\n",
       "       [7, 8]])"
      ]
     },
     "execution_count": 315,
     "metadata": {},
     "output_type": "execute_result"
    }
   ],
   "source": [
    "mtx_obj_1 + 2"
   ]
  },
  {
   "cell_type": "code",
   "execution_count": 316,
   "id": "44f1e627-484c-498e-a82e-700617b3c9f4",
   "metadata": {},
   "outputs": [
    {
     "data": {
      "text/plain": [
       "array([[-1,  0],\n",
       "       [ 1,  2],\n",
       "       [ 3,  4]])"
      ]
     },
     "execution_count": 316,
     "metadata": {},
     "output_type": "execute_result"
    }
   ],
   "source": [
    "mtx_obj_1 - 2"
   ]
  },
  {
   "cell_type": "code",
   "execution_count": 317,
   "id": "ce90502f-7ea1-40e2-b266-40bc671d666d",
   "metadata": {},
   "outputs": [
    {
     "data": {
      "text/plain": [
       "array([[0.5, 1. ],\n",
       "       [1.5, 2. ],\n",
       "       [2.5, 3. ]])"
      ]
     },
     "execution_count": 317,
     "metadata": {},
     "output_type": "execute_result"
    }
   ],
   "source": [
    "mtx_obj_1 / 2"
   ]
  },
  {
   "cell_type": "code",
   "execution_count": 318,
   "id": "2e17135b-55da-44e9-a271-3b00b9b098d2",
   "metadata": {},
   "outputs": [],
   "source": [
    "### Operasi matrix"
   ]
  },
  {
   "cell_type": "code",
   "execution_count": 319,
   "id": "3ec63143-287d-4cc6-951d-1c744f106c19",
   "metadata": {},
   "outputs": [
    {
     "data": {
      "text/plain": [
       "array([[ 7,  8],\n",
       "       [ 9, 10],\n",
       "       [11, 12]])"
      ]
     },
     "execution_count": 319,
     "metadata": {},
     "output_type": "execute_result"
    }
   ],
   "source": [
    "mtx_obj_2 = np.array([[7,8],[9,10],[11,12]])\n",
    "mtx_obj_2"
   ]
  },
  {
   "cell_type": "code",
   "execution_count": 320,
   "id": "df4ffd80-d1fe-4843-844c-3731af4f09f2",
   "metadata": {},
   "outputs": [
    {
     "data": {
      "text/plain": [
       "(3, 2)"
      ]
     },
     "execution_count": 320,
     "metadata": {},
     "output_type": "execute_result"
    }
   ],
   "source": [
    "mtx_obj_2.shape"
   ]
  },
  {
   "cell_type": "code",
   "execution_count": 321,
   "id": "e5cdd122-2c6b-412f-82aa-2c5d4c9285ca",
   "metadata": {},
   "outputs": [
    {
     "name": "stdout",
     "output_type": "stream",
     "text": [
      "[[1 2]\n",
      " [3 4]\n",
      " [5 6]]\n",
      "\n",
      "[[ 7  8]\n",
      " [ 9 10]\n",
      " [11 12]]\n",
      "\n"
     ]
    },
    {
     "data": {
      "text/plain": [
       "array([[ 8, 10],\n",
       "       [12, 14],\n",
       "       [16, 18]])"
      ]
     },
     "execution_count": 321,
     "metadata": {},
     "output_type": "execute_result"
    }
   ],
   "source": [
    "print(mtx_obj_1)\n",
    "print()\n",
    "print(mtx_obj_2)\n",
    "print()\n",
    "\n",
    "mtx_obj_1 + mtx_obj_2"
   ]
  },
  {
   "cell_type": "code",
   "execution_count": 322,
   "id": "f78c54ff-e2c7-4783-9f46-c2c7bc2ea106",
   "metadata": {},
   "outputs": [],
   "source": [
    "### Operasi matrix dengan broadcasting"
   ]
  },
  {
   "cell_type": "code",
   "execution_count": 323,
   "id": "284cd471-0ae4-43cf-a0e5-06db526b0c00",
   "metadata": {},
   "outputs": [
    {
     "name": "stdout",
     "output_type": "stream",
     "text": [
      "[[1 2]\n",
      " [3 4]\n",
      " [5 6]]\n",
      "ukuran matrix (3, 2)\n",
      "\n",
      "[7 8]\n",
      "ukuran matrix (2,)\n",
      "\n"
     ]
    },
    {
     "data": {
      "text/plain": [
       "array([[ 8, 10],\n",
       "       [10, 12],\n",
       "       [12, 14]])"
      ]
     },
     "execution_count": 323,
     "metadata": {},
     "output_type": "execute_result"
    }
   ],
   "source": [
    "print(mtx_obj_1)\n",
    "print('ukuran matrix {}'.format(mtx_obj_1.shape))\n",
    "print()\n",
    "print(mtx_obj_2[0,:])\n",
    "print('ukuran matrix {}'.format(mtx_obj_2[0,:].shape))\n",
    "print()\n",
    "\n",
    "mtx_obj_1 + mtx_obj_2[0,:]"
   ]
  },
  {
   "cell_type": "code",
   "execution_count": 324,
   "id": "1ece19b1-b9b1-45d9-8a78-9e92772ac5d2",
   "metadata": {},
   "outputs": [
    {
     "name": "stdout",
     "output_type": "stream",
     "text": [
      "[[1 2]\n",
      " [3 4]\n",
      " [5 6]]\n",
      "ukuran matrix (3, 2)\n",
      "\n",
      "[ 7  9 11]\n",
      "ukuran matrix (3,)\n",
      "\n"
     ]
    },
    {
     "ename": "ValueError",
     "evalue": "operands could not be broadcast together with shapes (3,2) (3,) ",
     "output_type": "error",
     "traceback": [
      "\u001b[0;31m---------------------------------------------------------------------------\u001b[0m",
      "\u001b[0;31mValueError\u001b[0m                                Traceback (most recent call last)",
      "Cell \u001b[0;32mIn[324], line 8\u001b[0m\n\u001b[1;32m      5\u001b[0m \u001b[38;5;28mprint\u001b[39m(\u001b[38;5;124m'\u001b[39m\u001b[38;5;124mukuran matrix \u001b[39m\u001b[38;5;132;01m{}\u001b[39;00m\u001b[38;5;124m'\u001b[39m\u001b[38;5;241m.\u001b[39mformat(mtx_obj_2[:,\u001b[38;5;241m0\u001b[39m]\u001b[38;5;241m.\u001b[39mshape))\n\u001b[1;32m      6\u001b[0m \u001b[38;5;28mprint\u001b[39m()\n\u001b[0;32m----> 8\u001b[0m \u001b[43mmtx_obj_1\u001b[49m\u001b[43m \u001b[49m\u001b[38;5;241;43m+\u001b[39;49m\u001b[43m \u001b[49m\u001b[43mmtx_obj_2\u001b[49m\u001b[43m[\u001b[49m\u001b[43m:\u001b[49m\u001b[43m,\u001b[49m\u001b[38;5;241;43m0\u001b[39;49m\u001b[43m]\u001b[49m\n",
      "\u001b[0;31mValueError\u001b[0m: operands could not be broadcast together with shapes (3,2) (3,) "
     ]
    }
   ],
   "source": [
    "print(mtx_obj_1)\n",
    "print('ukuran matrix {}'.format(mtx_obj_1.shape))\n",
    "print()\n",
    "print(mtx_obj_2[:,0])\n",
    "print('ukuran matrix {}'.format(mtx_obj_2[:,0].shape))\n",
    "print()\n",
    "\n",
    "mtx_obj_1 + mtx_obj_2[:,0]"
   ]
  },
  {
   "cell_type": "code",
   "execution_count": 325,
   "id": "b6163793-3290-43a0-86df-821682defa87",
   "metadata": {},
   "outputs": [
    {
     "name": "stdout",
     "output_type": "stream",
     "text": [
      "[[1 2]\n",
      " [3 4]\n",
      " [5 6]]\n",
      "ukuran matrix (3, 2)\n",
      "\n",
      "[7 8]\n",
      "ukuran matrix (2,)\n",
      "\n"
     ]
    },
    {
     "data": {
      "text/plain": [
       "array([[ 7, 16],\n",
       "       [21, 32],\n",
       "       [35, 48]])"
      ]
     },
     "execution_count": 325,
     "metadata": {},
     "output_type": "execute_result"
    }
   ],
   "source": [
    "print(mtx_obj_1)\n",
    "print('ukuran matrix {}'.format(mtx_obj_1.shape))\n",
    "print()\n",
    "print(mtx_obj_2[0,:])\n",
    "print('ukuran matrix {}'.format(mtx_obj_2[0,:].shape))\n",
    "print()\n",
    "\n",
    "mtx_obj_1 * mtx_obj_2[0,:]"
   ]
  },
  {
   "cell_type": "code",
   "execution_count": 326,
   "id": "afc48e9f-b3b9-455c-859c-034ab375a23b",
   "metadata": {},
   "outputs": [
    {
     "name": "stdout",
     "output_type": "stream",
     "text": [
      "[[1 2]\n",
      " [3 4]\n",
      " [5 6]]\n",
      "ukuran matrix (3, 2)\n",
      "\n",
      "[ 7  9 11]\n",
      "ukuran matrix (3,)\n",
      "\n"
     ]
    },
    {
     "ename": "ValueError",
     "evalue": "operands could not be broadcast together with shapes (3,2) (3,) ",
     "output_type": "error",
     "traceback": [
      "\u001b[0;31m---------------------------------------------------------------------------\u001b[0m",
      "\u001b[0;31mValueError\u001b[0m                                Traceback (most recent call last)",
      "Cell \u001b[0;32mIn[326], line 8\u001b[0m\n\u001b[1;32m      5\u001b[0m \u001b[38;5;28mprint\u001b[39m(\u001b[38;5;124m'\u001b[39m\u001b[38;5;124mukuran matrix \u001b[39m\u001b[38;5;132;01m{}\u001b[39;00m\u001b[38;5;124m'\u001b[39m\u001b[38;5;241m.\u001b[39mformat(mtx_obj_2[:,\u001b[38;5;241m0\u001b[39m]\u001b[38;5;241m.\u001b[39mshape))\n\u001b[1;32m      6\u001b[0m \u001b[38;5;28mprint\u001b[39m()\n\u001b[0;32m----> 8\u001b[0m \u001b[43mmtx_obj_1\u001b[49m\u001b[43m \u001b[49m\u001b[38;5;241;43m*\u001b[39;49m\u001b[43m \u001b[49m\u001b[43mmtx_obj_2\u001b[49m\u001b[43m[\u001b[49m\u001b[43m:\u001b[49m\u001b[43m,\u001b[49m\u001b[38;5;241;43m0\u001b[39;49m\u001b[43m]\u001b[49m\n",
      "\u001b[0;31mValueError\u001b[0m: operands could not be broadcast together with shapes (3,2) (3,) "
     ]
    }
   ],
   "source": [
    "print(mtx_obj_1)\n",
    "print('ukuran matrix {}'.format(mtx_obj_1.shape))\n",
    "print()\n",
    "print(mtx_obj_2[:,0])\n",
    "print('ukuran matrix {}'.format(mtx_obj_2[:,0].shape))\n",
    "print()\n",
    "\n",
    "mtx_obj_1 * mtx_obj_2[:,0]"
   ]
  },
  {
   "cell_type": "code",
   "execution_count": 327,
   "id": "ff00eb37-3052-4469-af52-2aba7f773587",
   "metadata": {},
   "outputs": [
    {
     "name": "stdout",
     "output_type": "stream",
     "text": [
      "[[1 2]\n",
      " [3 4]\n",
      " [5 6]]\n",
      "ukuran matrix (3, 2)\n",
      "\n",
      "[[ 9 10]\n",
      " [11 12]]\n",
      "ukuran matrix (2, 2)\n",
      "\n"
     ]
    },
    {
     "ename": "ValueError",
     "evalue": "operands could not be broadcast together with shapes (3,2) (2,2) ",
     "output_type": "error",
     "traceback": [
      "\u001b[0;31m---------------------------------------------------------------------------\u001b[0m",
      "\u001b[0;31mValueError\u001b[0m                                Traceback (most recent call last)",
      "Cell \u001b[0;32mIn[327], line 8\u001b[0m\n\u001b[1;32m      5\u001b[0m \u001b[38;5;28mprint\u001b[39m(\u001b[38;5;124m'\u001b[39m\u001b[38;5;124mukuran matrix \u001b[39m\u001b[38;5;132;01m{}\u001b[39;00m\u001b[38;5;124m'\u001b[39m\u001b[38;5;241m.\u001b[39mformat(mtx_obj_2[\u001b[38;5;241m1\u001b[39m:,:]\u001b[38;5;241m.\u001b[39mshape))\n\u001b[1;32m      6\u001b[0m \u001b[38;5;28mprint\u001b[39m()\n\u001b[0;32m----> 8\u001b[0m \u001b[43mmtx_obj_1\u001b[49m\u001b[43m \u001b[49m\u001b[38;5;241;43m+\u001b[39;49m\u001b[43m \u001b[49m\u001b[43mmtx_obj_2\u001b[49m\u001b[43m[\u001b[49m\u001b[38;5;241;43m1\u001b[39;49m\u001b[43m:\u001b[49m\u001b[43m,\u001b[49m\u001b[43m:\u001b[49m\u001b[43m]\u001b[49m\n",
      "\u001b[0;31mValueError\u001b[0m: operands could not be broadcast together with shapes (3,2) (2,2) "
     ]
    }
   ],
   "source": [
    "print(mtx_obj_1)\n",
    "print('ukuran matrix {}'.format(mtx_obj_1.shape))\n",
    "print()\n",
    "print(mtx_obj_2[1:,:])\n",
    "print('ukuran matrix {}'.format(mtx_obj_2[1:,:].shape))\n",
    "print()\n",
    "\n",
    "mtx_obj_1 + mtx_obj_2[1:,:]"
   ]
  },
  {
   "cell_type": "code",
   "execution_count": 328,
   "id": "38147e17-4cc5-4190-bd58-68397344e0e5",
   "metadata": {},
   "outputs": [],
   "source": [
    "### Perkalian Matrix"
   ]
  },
  {
   "cell_type": "code",
   "execution_count": 329,
   "id": "33f7676a-c0d0-43cd-a366-abf522f674c3",
   "metadata": {},
   "outputs": [
    {
     "name": "stdout",
     "output_type": "stream",
     "text": [
      "[[1 2]\n",
      " [3 4]\n",
      " [5 6]]\n",
      "ukuran matrix (3, 2)\n",
      "\n",
      "[[ 9 10]\n",
      " [11 12]]\n",
      "ukuran matrix (2, 2)\n",
      "\n"
     ]
    },
    {
     "data": {
      "text/plain": [
       "array([[ 31,  34],\n",
       "       [ 71,  78],\n",
       "       [111, 122]])"
      ]
     },
     "execution_count": 329,
     "metadata": {},
     "output_type": "execute_result"
    }
   ],
   "source": [
    "print(mtx_obj_1)\n",
    "print('ukuran matrix {}'.format(mtx_obj_1.shape))\n",
    "print()\n",
    "print(mtx_obj_2[1:,:])\n",
    "print('ukuran matrix {}'.format(mtx_obj_2[1:,:].shape))\n",
    "print()\n",
    "\n",
    "mtx_obj_1.dot(mtx_obj_2[1:,:])"
   ]
  },
  {
   "cell_type": "code",
   "execution_count": 330,
   "id": "18924024-d8c3-4903-90c5-2a2284e4dcfb",
   "metadata": {},
   "outputs": [
    {
     "name": "stdout",
     "output_type": "stream",
     "text": [
      "[[1 2]\n",
      " [3 4]\n",
      " [5 6]]\n",
      "\n",
      "ukuran matrix (3, 2).\n"
     ]
    }
   ],
   "source": [
    "print(mtx_obj_1)\n",
    "print()\n",
    "print('ukuran matrix {}.'.format(mtx_obj_1.shape))"
   ]
  },
  {
   "cell_type": "code",
   "execution_count": 331,
   "id": "3e0946a1-6581-4c58-8915-a76663a18f91",
   "metadata": {},
   "outputs": [
    {
     "name": "stdout",
     "output_type": "stream",
     "text": [
      "[7 8]\n",
      "\n",
      "ukuran matrix (2,).\n"
     ]
    }
   ],
   "source": [
    "print(mtx_obj_2[0,:])\n",
    "print()\n",
    "print('ukuran matrix {}.'.format(mtx_obj_2[0,:].shape))"
   ]
  },
  {
   "cell_type": "code",
   "execution_count": 332,
   "id": "52ff9951-31a3-4c53-aaa0-5cd7acff1f00",
   "metadata": {},
   "outputs": [
    {
     "ename": "ValueError",
     "evalue": "operands could not be broadcast together with shapes (3,2) (3,) ",
     "output_type": "error",
     "traceback": [
      "\u001b[0;31m---------------------------------------------------------------------------\u001b[0m",
      "\u001b[0;31mValueError\u001b[0m                                Traceback (most recent call last)",
      "Cell \u001b[0;32mIn[332], line 1\u001b[0m\n\u001b[0;32m----> 1\u001b[0m \u001b[43mmtx_obj_1\u001b[49m\u001b[43m \u001b[49m\u001b[38;5;241;43m+\u001b[39;49m\u001b[43m \u001b[49m\u001b[43mmtx_obj_2\u001b[49m\u001b[43m[\u001b[49m\u001b[43m:\u001b[49m\u001b[43m,\u001b[49m\u001b[38;5;241;43m0\u001b[39;49m\u001b[43m]\u001b[49m\n",
      "\u001b[0;31mValueError\u001b[0m: operands could not be broadcast together with shapes (3,2) (3,) "
     ]
    }
   ],
   "source": [
    "mtx_obj_1 + mtx_obj_2[:,0]"
   ]
  },
  {
   "cell_type": "code",
   "execution_count": 333,
   "id": "a6b60fd6-7e19-4a0a-a1c3-e334392a67d4",
   "metadata": {},
   "outputs": [
    {
     "name": "stdout",
     "output_type": "stream",
     "text": [
      "[[1 2]\n",
      " [3 4]\n",
      " [5 6]]\n",
      "\n",
      "ukuran matrix (3, 2).\n"
     ]
    }
   ],
   "source": [
    "print(mtx_obj_1)\n",
    "print()\n",
    "print('ukuran matrix {}.'.format(mtx_obj_1.shape))"
   ]
  },
  {
   "cell_type": "code",
   "execution_count": 334,
   "id": "688255f9-34e5-43a2-8ab6-2938a6e34472",
   "metadata": {},
   "outputs": [
    {
     "name": "stdout",
     "output_type": "stream",
     "text": [
      "[ 7  9 11]\n",
      "\n",
      "ukuran matrix (3,).\n"
     ]
    }
   ],
   "source": [
    "print(mtx_obj_2[:,0])\n",
    "print()\n",
    "print('ukuran matrix {}.'.format(mtx_obj_2[:,0].shape))"
   ]
  },
  {
   "cell_type": "code",
   "execution_count": 335,
   "id": "aced9803-c738-4e5d-8c6b-b5f98294a41a",
   "metadata": {},
   "outputs": [
    {
     "data": {
      "text/plain": [
       "array([[ 8, 11, 14],\n",
       "       [11, 14, 17]])"
      ]
     },
     "execution_count": 335,
     "metadata": {},
     "output_type": "execute_result"
    }
   ],
   "source": [
    "mtx_obj_1.reshape(2,3) + mtx_obj_2[:,0]"
   ]
  },
  {
   "cell_type": "markdown",
   "id": "652501fe-e805-451a-8756-4c7f7d5634a4",
   "metadata": {},
   "source": [
    "### 4. Numpy - Additional"
   ]
  },
  {
   "cell_type": "code",
   "execution_count": 336,
   "id": "ad3c0f24-d240-45d6-ba85-e5768a2ed7b1",
   "metadata": {},
   "outputs": [
    {
     "data": {
      "text/plain": [
       "array([  0.        ,   5.26315789,  10.52631579,  15.78947368,\n",
       "        21.05263158,  26.31578947,  31.57894737,  36.84210526,\n",
       "        42.10526316,  47.36842105,  52.63157895,  57.89473684,\n",
       "        63.15789474,  68.42105263,  73.68421053,  78.94736842,\n",
       "        84.21052632,  89.47368421,  94.73684211, 100.        ])"
      ]
     },
     "execution_count": 336,
     "metadata": {},
     "output_type": "execute_result"
    }
   ],
   "source": [
    "# start, stop, num of element\n",
    "np.linspace(0, 100, 20)"
   ]
  },
  {
   "cell_type": "code",
   "execution_count": 337,
   "id": "022ca453-4d82-41a3-9bf3-a5a0ea7600cb",
   "metadata": {},
   "outputs": [
    {
     "data": {
      "text/plain": [
       "array([ 0, 20, 40, 60, 80])"
      ]
     },
     "execution_count": 337,
     "metadata": {},
     "output_type": "execute_result"
    }
   ],
   "source": [
    "# start, stop, step between element\n",
    "np.arange(0, 100, 20)"
   ]
  },
  {
   "cell_type": "code",
   "execution_count": 338,
   "id": "06784539-aace-4e67-bf15-7fe0d5ad3c2e",
   "metadata": {},
   "outputs": [
    {
     "data": {
      "text/plain": [
       "array([0.71457578, 0.54254437, 0.14217005, 0.37334076, 0.67413362])"
      ]
     },
     "execution_count": 338,
     "metadata": {},
     "output_type": "execute_result"
    }
   ],
   "source": [
    "# Generate random number\n",
    "np.random.rand(5)"
   ]
  },
  {
   "cell_type": "code",
   "execution_count": 339,
   "id": "513038c0-99c8-49db-9cbf-2cd68cf462cd",
   "metadata": {},
   "outputs": [
    {
     "data": {
      "text/plain": [
       "array([0.44183317, 0.43401399, 0.61776698, 0.51313824, 0.65039718])"
      ]
     },
     "execution_count": 339,
     "metadata": {},
     "output_type": "execute_result"
    }
   ],
   "source": [
    "np.random.rand(5)"
   ]
  },
  {
   "cell_type": "code",
   "execution_count": 340,
   "id": "203b404d-15e0-4853-9cb6-7b5ebb7f338c",
   "metadata": {},
   "outputs": [
    {
     "data": {
      "text/plain": [
       "array([0.77132064, 0.02075195, 0.63364823, 0.74880388, 0.49850701])"
      ]
     },
     "execution_count": 340,
     "metadata": {},
     "output_type": "execute_result"
    }
   ],
   "source": [
    "# Generate persistent random number\n",
    "np.random.seed(10)\n",
    "np.random.rand(5)"
   ]
  },
  {
   "cell_type": "code",
   "execution_count": 341,
   "id": "256adce5-c472-46ff-a9ed-d56cda12e49e",
   "metadata": {},
   "outputs": [
    {
     "data": {
      "text/plain": [
       "array([0.77132064, 0.02075195, 0.63364823, 0.74880388, 0.49850701])"
      ]
     },
     "execution_count": 341,
     "metadata": {},
     "output_type": "execute_result"
    }
   ],
   "source": [
    "np.random.seed(10)\n",
    "np.random.rand(5)"
   ]
  },
  {
   "cell_type": "code",
   "execution_count": 342,
   "id": "02f5b6f1-ff9a-4eb9-9232-57937e4d0c94",
   "metadata": {},
   "outputs": [
    {
     "data": {
      "text/plain": [
       "4"
      ]
     },
     "execution_count": 342,
     "metadata": {},
     "output_type": "execute_result"
    }
   ],
   "source": [
    "np.random.seed(10)\n",
    "np.random.randint(9)"
   ]
  },
  {
   "cell_type": "code",
   "execution_count": 343,
   "id": "84b7f1e9-8ba8-4508-87a4-364a9b55cb50",
   "metadata": {},
   "outputs": [
    {
     "data": {
      "text/plain": [
       "array([5, 1, 2, 1, 2, 9, 1, 9, 7])"
      ]
     },
     "execution_count": 343,
     "metadata": {},
     "output_type": "execute_result"
    }
   ],
   "source": [
    "np.random.seed(10)\n",
    "np.random.randint(1, 10, 9)"
   ]
  },
  {
   "cell_type": "code",
   "execution_count": 344,
   "id": "75beb2b3-cfd9-4b8d-a15d-78cff239e835",
   "metadata": {},
   "outputs": [
    {
     "data": {
      "text/plain": [
       "array([[5, 1, 2],\n",
       "       [1, 2, 9],\n",
       "       [1, 9, 7]])"
      ]
     },
     "execution_count": 344,
     "metadata": {},
     "output_type": "execute_result"
    }
   ],
   "source": [
    "np.random.seed(10)\n",
    "mtx_obj = np.random.randint(1, 10, 9).reshape(3,3)\n",
    "mtx_obj"
   ]
  },
  {
   "cell_type": "code",
   "execution_count": 345,
   "id": "acbe5d2f-9e54-4e7b-8055-c1900d4c0650",
   "metadata": {},
   "outputs": [
    {
     "data": {
      "text/plain": [
       "array([[1, 0, 0],\n",
       "       [0, 0, 1],\n",
       "       [0, 1, 1]])"
      ]
     },
     "execution_count": 345,
     "metadata": {},
     "output_type": "execute_result"
    }
   ],
   "source": [
    "# Replace value of matrix with condition\n",
    "np.where(mtx_obj > 4, 1, 0)"
   ]
  },
  {
   "cell_type": "code",
   "execution_count": 346,
   "id": "43f64650-02a7-4b0c-b777-f341782665f9",
   "metadata": {},
   "outputs": [
    {
     "data": {
      "text/plain": [
       "array([[0, 1, 2],\n",
       "       [1, 2, 0],\n",
       "       [1, 0, 0]])"
      ]
     },
     "execution_count": 346,
     "metadata": {},
     "output_type": "execute_result"
    }
   ],
   "source": [
    "np.where(mtx_obj > 4, 0, mtx_obj)"
   ]
  },
  {
   "cell_type": "code",
   "execution_count": 347,
   "id": "90869f15-9b4c-4bbc-8566-0f5fd9f217df",
   "metadata": {},
   "outputs": [
    {
     "data": {
      "text/plain": [
       "5"
      ]
     },
     "execution_count": 347,
     "metadata": {},
     "output_type": "execute_result"
    }
   ],
   "source": [
    "# Find index of max value in matrix\n",
    "np.argmax(mtx_obj)"
   ]
  },
  {
   "cell_type": "code",
   "execution_count": 348,
   "id": "90d3a0eb-0aeb-4db5-8d68-6861e9f44a04",
   "metadata": {},
   "outputs": [
    {
     "data": {
      "text/plain": [
       "9"
      ]
     },
     "execution_count": 348,
     "metadata": {},
     "output_type": "execute_result"
    }
   ],
   "source": [
    "np.max(mtx_obj)"
   ]
  },
  {
   "cell_type": "code",
   "execution_count": null,
   "id": "8f746557-db54-4ede-94a4-75a03af33abc",
   "metadata": {},
   "outputs": [],
   "source": []
  }
 ],
 "metadata": {
  "kernelspec": {
   "display_name": "Python 3 (ipykernel)",
   "language": "python",
   "name": "python3"
  },
  "language_info": {
   "codemirror_mode": {
    "name": "ipython",
    "version": 3
   },
   "file_extension": ".py",
   "mimetype": "text/x-python",
   "name": "python",
   "nbconvert_exporter": "python",
   "pygments_lexer": "ipython3",
   "version": "3.9.6"
  }
 },
 "nbformat": 4,
 "nbformat_minor": 5
}
